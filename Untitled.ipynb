{
 "cells": [
  {
   "cell_type": "markdown",
   "id": "5e523515",
   "metadata": {},
   "source": [
    "# NOC COMENTARIO\n",
    "### Colocando comentario no Noc com o seguinte texto: Feito novo teste de link, porém permanece indisponível."
   ]
  },
  {
   "cell_type": "code",
   "execution_count": 1,
   "id": "3becd38f",
   "metadata": {},
   "outputs": [],
   "source": [
    "import pyautogui\n",
    "import time"
   ]
  },
  {
   "cell_type": "code",
   "execution_count": null,
   "id": "49da6695",
   "metadata": {},
   "outputs": [],
   "source": [
    "#main\n",
    "\n",
    "pyautogui.PAUSE = 0.8\n",
    "pyautogui.alert(\"Protocolo iniciado\")\n",
    "pyautogui.click(25, 60) #voltar"
   ]
  },
  {
   "cell_type": "code",
   "execution_count": null,
   "id": "622bc644",
   "metadata": {},
   "outputs": [],
   "source": [
    "pyautogui.moveTo()"
   ]
  }
 ],
 "metadata": {
  "kernelspec": {
   "display_name": "Python 3 (ipykernel)",
   "language": "python",
   "name": "python3"
  },
  "language_info": {
   "codemirror_mode": {
    "name": "ipython",
    "version": 3
   },
   "file_extension": ".py",
   "mimetype": "text/x-python",
   "name": "python",
   "nbconvert_exporter": "python",
   "pygments_lexer": "ipython3",
   "version": "3.9.12"
  }
 },
 "nbformat": 4,
 "nbformat_minor": 5
}
