{
 "cells": [
  {
   "cell_type": "markdown",
   "id": "1609fd82",
   "metadata": {},
   "source": [
    "# NOC COMENTARIO\n",
    "### Colocando comentario no Noc com o seguinte texto: Feito novo teste de link, porém permanece indisponível."
   ]
  },
  {
   "cell_type": "code",
   "execution_count": 2,
   "id": "5fdf05cb",
   "metadata": {},
   "outputs": [],
   "source": [
    "import pyautogui\n",
    "import time"
   ]
  },
  {
   "cell_type": "code",
   "execution_count": 3,
   "id": "2aeeb3c5",
   "metadata": {},
   "outputs": [
    {
     "data": {
      "text/plain": [
       "'OK'"
      ]
     },
     "execution_count": 3,
     "metadata": {},
     "output_type": "execute_result"
    }
   ],
   "source": [
    "#main\n",
    "\n",
    "pyautogui.PAUSE = 0.7\n",
    "pyautogui.alert(\"Protocolo iniciado\")\n",
    "for i in range(4):\n",
    "    pyautogui.click(25, 60) #voltar\n",
    "    time.sleep(6)\n",
    "    pyautogui.press('end')\n",
    "    pyautogui.click(1430,680) #link de comentario\n",
    "    pyautogui.press('end')\n",
    "    pyautogui.click(1430,570) #Escreva aqui\n",
    "    pyautogui.hotkey('1')\n",
    "    pyautogui.click(1830,650) #Adicionar comentario\n",
    "    time.sleep(2)\n",
    "    pyautogui.hotkey('ctrl','w')\n",
    "pyautogui.alert(\"automação realizada com sucesso.\")"
   ]
  },
  {
   "cell_type": "code",
   "execution_count": null,
   "id": "d59f5801",
   "metadata": {},
   "outputs": [],
   "source": [
    "time.sleep(2)\n",
    "\n",
    "bt = pyautogui.locateOnScreen('btcoment.png')\n",
    "print (bt)"
   ]
  },
  {
   "cell_type": "code",
   "execution_count": null,
   "id": "37558ee6",
   "metadata": {},
   "outputs": [],
   "source": [
    "pyautogui.moveTo(1830,650)"
   ]
  },
  {
   "cell_type": "code",
   "execution_count": null,
   "id": "065c11ca",
   "metadata": {},
   "outputs": [],
   "source": []
  }
 ],
 "metadata": {
  "kernelspec": {
   "display_name": "Python 3 (ipykernel)",
   "language": "python",
   "name": "python3"
  },
  "language_info": {
   "codemirror_mode": {
    "name": "ipython",
    "version": 3
   },
   "file_extension": ".py",
   "mimetype": "text/x-python",
   "name": "python",
   "nbconvert_exporter": "python",
   "pygments_lexer": "ipython3",
   "version": "3.9.12"
  }
 },
 "nbformat": 4,
 "nbformat_minor": 5
}
