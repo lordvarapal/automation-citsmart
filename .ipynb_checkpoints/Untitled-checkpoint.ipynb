{
 "cells": [
  {
   "cell_type": "markdown",
   "id": "8d03959c",
   "metadata": {},
   "source": [
    "# Automacao para atualizar processos do NOC/ Central IT"
   ]
  },
  {
   "cell_type": "markdown",
   "id": "35c8d2c3",
   "metadata": {},
   "source": [
    "Esta automação tem por objetivo acelerar o processo de atualização de protocolo do NOC. \n",
    "Ele utiliza o Clavier+ com a função de \"2\" equivalendo ao texto de finalização do NOC e o combo \"ctrl + 2\".\n"
   ]
  },
  {
   "cell_type": "code",
   "execution_count": 2,
   "id": "167e0261",
   "metadata": {},
   "outputs": [],
   "source": [
    "import pyautogui\n",
    "import time"
   ]
  },
  {
   "cell_type": "code",
   "execution_count": null,
   "id": "69084dcf",
   "metadata": {},
   "outputs": [],
   "source": [
    "#Aperta END no teclado, clica em resolvido, aperta END no teclado, seleciona o campo de digitar Solucao Resposta\n"
   ]
  },
  {
   "cell_type": "code",
   "execution_count": null,
   "id": "353a6fa5",
   "metadata": {},
   "outputs": [],
   "source": [
    "#Anexando arquivo: clcica no clip, clica pra fazer o upload, seleciona, enter\n",
    "def anexaImagem():\n",
    "    pyautogui.PAUSE = 0.5\n",
    "    pyautogui.click(x=1740, y=170) #clique no clip\n",
    "    pyautogui.click(x=1520, y=270) #clique no campo\n",
    "    time.sleep(1)\n",
    "    pyautogui.click(x=226, y=186) #selecione o arquivo\n",
    "    pyautogui.press('enter')\n",
    "    time.sleep(1)\n",
    "    return"
   ]
  },
  {
   "cell_type": "code",
   "execution_count": null,
   "id": "4d55c88c",
   "metadata": {},
   "outputs": [],
   "source": [
    "#Reativando protocolo: clica nos 3 pontos, reativar, confirmar\n",
    "def reativarProtocolo():\n",
    "    pyautogui.PAUSE = 0.5\n",
    "    pyautogui.click(x=1860, y=175) #3 pontos\n",
    "    pyautogui.click(x=1860, y=219) #reativar\n",
    "    pyautogui.click(x=1116, y=238) #confirmar\n",
    "    time.sleep(5)\n",
    "    return"
   ]
  },
  {
   "cell_type": "code",
   "execution_count": null,
   "id": "511e5e8c",
   "metadata": {},
   "outputs": [],
   "source": [
    "#A ferramenta de captura estando aberta, clicar em modo e selecionar a funcao \"recorte de tela cheia\"\n",
    "def recorteTela():\n",
    "    pyautogui.PAUSE = 0.5\n",
    "    pyautogui.click(x=45, y=70) #clicar em novo\n",
    "    pyautogui.click(x=370, y=223) #clicar em modo\n",
    "    pyautogui.click(x=380, y=320) #captura de janela\n",
    "    pyautogui.click(x=275, y=70) #salvar\n",
    "    pyautogui.click(x=798, y=556) #salvar novamente\n",
    "    pyautogui.click(x=1000, y=528) #aceitar\n",
    "    pyautogui.click(x=1799, y=25) #minimizar\n",
    "    return"
   ]
  },
  {
   "cell_type": "code",
   "execution_count": null,
   "id": "e4664d18",
   "metadata": {},
   "outputs": [],
   "source": [
    "#O protocolo será suspenso devido a falta de sua tratativa.\n",
    "def suspendeProtocolo():\n",
    "    pyautogui.PAUSE = 1\n",
    "    pyautogui.click(x=1860, y=175) #3 pontos\n",
    "    pyautogui.click(x=1776, y=271) #suspender\n",
    "    time.sleep (4) # aguarde...\n",
    "    #clica no campo\n",
    "    pyautogui.press('down', presses=5) #5 setas para baixo\n",
    "    pyautogui.press('enter') #enter\n",
    "    pyautogui.click(x=862, y=321) #clique na caixa de texto\n",
    "    pyautogui.hotkey('ctrl','2') #coloque o texto\n",
    "    pyautogui.click(x=556, y=436) #salvar\n",
    "    return\n",
    "    "
   ]
  },
  {
   "cell_type": "code",
   "execution_count": null,
   "id": "b1d970fe",
   "metadata": {},
   "outputs": [],
   "source": [
    "#main\n",
    "\n",
    "for i in range(20):\n",
    "    pyautogui.alert(\"Protocolo iniciado\")\n",
    "    recorteTela()\n",
    "    #clica em voltar, aguarda alguns instantes\n",
    "    pyautogui.click(x=25, y=50) #voltar\n",
    "    pyautogui.alert(\"Seguir em frente!\")\n",
    "    reativarProtocolo()\n",
    "    anexaImagem()\n",
    "    suspendeProtocolo()   \n",
    "    #Aguarda alguns segundos, fecha Aba com comando Ctrl+\n",
    "    pyautogui.alert(\"Seguir em frente!\")\n",
    "    pyautogui.hotkey('ctrl','w')\n",
    "    pyautogui.click(x=859, y=1050) #abrindo ferramenta de captura de imagem\n",
    "\n",
    "pyautogui.alert(\"automação realizada com sucesso. Aperte ok para fechar ABA!\")\n",
    "pyautogui.hotkey('ctrl','w')\n"
   ]
  },
  {
   "cell_type": "code",
   "execution_count": 5,
   "id": "ad635546",
   "metadata": {},
   "outputs": [
    {
     "data": {
      "text/plain": [
       "Point(x=556, y=436)"
      ]
     },
     "execution_count": 5,
     "metadata": {},
     "output_type": "execute_result"
    }
   ],
   "source": [
    "#teste de posicionamento na tela\n",
    "pyautogui.position()"
   ]
  },
  {
   "cell_type": "code",
   "execution_count": null,
   "id": "24bb0639",
   "metadata": {},
   "outputs": [],
   "source": []
  }
 ],
 "metadata": {
  "kernelspec": {
   "display_name": "Python 3 (ipykernel)",
   "language": "python",
   "name": "python3"
  },
  "language_info": {
   "codemirror_mode": {
    "name": "ipython",
    "version": 3
   },
   "file_extension": ".py",
   "mimetype": "text/x-python",
   "name": "python",
   "nbconvert_exporter": "python",
   "pygments_lexer": "ipython3",
   "version": "3.9.7"
  }
 },
 "nbformat": 4,
 "nbformat_minor": 5
}
