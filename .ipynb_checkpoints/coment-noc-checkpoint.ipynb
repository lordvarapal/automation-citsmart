{
 "cells": [
  {
   "cell_type": "markdown",
   "id": "9d8bc5aa",
   "metadata": {},
   "source": [
    "# NOC COMENTARIO\n",
    "### Colocando comentario no Noc com o seguinte texto: Feito novo teste de link, porém permanece indisponível."
   ]
  },
  {
   "cell_type": "code",
   "execution_count": 1,
   "id": "ad97e32f",
   "metadata": {},
   "outputs": [],
   "source": [
    "import pyautogui\n",
    "import time"
   ]
  },
  {
   "cell_type": "code",
   "execution_count": null,
   "id": "6bf97301",
   "metadata": {},
   "outputs": [],
   "source": [
    "#main\n",
    "\n",
    "pyautogui.PAUSE = 0.8\n",
    "pyautogui.alert(\"Protocolo iniciado\")\n",
    "pyautogui.click(25, 60) #voltar"
   ]
  },
  {
   "cell_type": "code",
   "execution_count": null,
   "id": "1fe62312",
   "metadata": {},
   "outputs": [],
   "source": [
    "pyautogui.moveTo()"
   ]
  }
 ],
 "metadata": {
  "kernelspec": {
   "display_name": "Python 3 (ipykernel)",
   "language": "python",
   "name": "python3"
  },
  "language_info": {
   "codemirror_mode": {
    "name": "ipython",
    "version": 3
   },
   "file_extension": ".py",
   "mimetype": "text/x-python",
   "name": "python",
   "nbconvert_exporter": "python",
   "pygments_lexer": "ipython3",
   "version": "3.9.12"
  }
 },
 "nbformat": 4,
 "nbformat_minor": 5
}
