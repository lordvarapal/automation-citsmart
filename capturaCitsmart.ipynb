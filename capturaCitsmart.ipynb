{
 "cells": [
  {
   "cell_type": "markdown",
   "id": "767ad7d9",
   "metadata": {},
   "source": [
    "# Citsmart - Captura de protocolo\n",
    "### Este protocolo, tem como objetivo capiturar os protocolos que chegam no NOC."
   ]
  },
  {
   "cell_type": "markdown",
   "id": "c4ad8b9b",
   "metadata": {},
   "source": [
    "Este protocolo, tem como objetivo capiturar os protocolos que chegam no NOC."
   ]
  },
  {
   "cell_type": "code",
   "execution_count": 1,
   "id": "07ab3120",
   "metadata": {},
   "outputs": [],
   "source": [
    "from selenium import webdriver\n",
    "from selenium.webdriver.firefox.service import Service\n",
    "from webdriver_manager.firefox import GeckoDriverManager\n",
    "from selenium.webdriver.common.by import By\n",
    "import time"
   ]
  },
  {
   "cell_type": "code",
   "execution_count": 2,
   "id": "ca7012b4",
   "metadata": {},
   "outputs": [],
   "source": [
    "#selecionar citsmart local e fazer o login\n",
    "def logandoCitsmart():\n",
    "    navegador.find_element(By.XPATH,'/html/body/div[3]/div[1]/div/div/form/div[2]/div/div/div/div/span').click() #abrindo opcoes\n",
    "    navegador.find_element(By.XPATH,'/html/body/div[3]/div[1]/div/div/form/div[2]/div/div/div/div/ul/li[1]/a/span').click() #selecionando \n",
    "    navegador.find_element(By.XPATH,'//*[@id=\"user_login\"]').send_keys('thiago.lima') #login\n",
    "    navegador.find_element(By.XPATH,'//*[@id=\"senha\"]').send_keys('Mud@r2345678') #senha\n",
    "    navegador.find_element(By.XPATH,'//*[@id=\"btnEntrar\"]').click() #logar\n",
    "    "
   ]
  },
  {
   "cell_type": "code",
   "execution_count": 3,
   "id": "07417083",
   "metadata": {},
   "outputs": [],
   "source": [
    "#abre a dasboard somente do NOC\n",
    "def organizaTicket():\n",
    "    navegador.find_element(By.XPATH,'//*[@id=\"open-advanced-search\"]').click()#abrindo opcoes\n",
    "    time.sleep(1)\n",
    "    navegador.find_element(By.XPATH,'//*[@id=\"select-grupo-executor\"]').click()#abrindo grupo executor NOC\n",
    "    navegador.find_element(By.XPATH,'//option[@label = \"CIT - NOC\"]').click()#colocando NOC\n",
    "    navegador.find_element(By.XPATH,'//*[@id=\"select-filtro-situacao\"]').click()#abrindo situacao.\n",
    "    navegador.find_element(By.XPATH,'/html/body/div[3]/div/div[2]/div/div[1]/div/form/div/div[1]/div/div/div[2]/div/div/div[1]/div[5]/div/select/option[2]').click()#colocando 'em andamento'\n",
    "    navegador.find_element(By.XPATH,'//*[@id=\"open-advanced-search\"]').click()#fechando opcoes"
   ]
  },
  {
   "cell_type": "code",
   "execution_count": 4,
   "id": "ab43f2ee",
   "metadata": {},
   "outputs": [],
   "source": [
    "def acessandoSistema():\n",
    "    navegador.find_element(By.XPATH,'/html/body/div[3]/div/header/div/div/div[1]/div[3]/a/i').click()#abrindo opcoes\n",
    "    navegador.find_element(By.XPATH,'/html/body/div[3]/div/header/div/div/div[1]/div[3]/div/div/div[2]/div/ul/li[1]/a/span').click()#abrindo fila de atendimento"
   ]
  },
  {
   "cell_type": "code",
   "execution_count": 5,
   "id": "8d865ff9",
   "metadata": {},
   "outputs": [],
   "source": [
    "def capturaProtocolo():\n",
    "    #Seleciona checkbox\n",
    "    navegador.find_element(By.XPATH,'/html/body/div[3]/div/div[2]/div/div[1]/div/form/div/div[2]/div[2]/div/div/div[3]/div[1]/div[1]/span/i').click()\n",
    "    #delegar\n",
    "    navegador.find_element(By.XPATH,'/html/body/div[3]/div/div[2]/div/div[1]/div/form/div/div[2]/div[1]/div[2]/button[1]/i').click()\n",
    "    time.sleep(1)\n",
    "    #escrever nome\n",
    "    navegador.find_element(By.XPATH,'//input[@name = \"userAutocomplete\"]').send_keys('thiago borges')\n",
    "    time.sleep(0.8)\n",
    "    #selecionar pessoa\n",
    "    navegador.find_element(By.XPATH,'//a[@title = \"Thiago Borges De Lima - 4985\"]').click()\n",
    "    #selecionar grupo\n",
    "    time.sleep(0.5)\n",
    "    navegador.find_element(By.XPATH,'//select[@id=\"delegation-id-group\"]').click()\n",
    "    #selecionar noc\n",
    "    time.sleep(0.5)\n",
    "    navegador.find_element(By.XPATH,'(//option[@value=\"number:21\"])[1]').click()\n",
    "    #justificativa\n",
    "    navegador.find_element(By.XPATH,'//textarea[@id=\"delegation-justification\"]').send_keys('Protocolo capturado.')\n",
    "    time.sleep(2)\n",
    "    #gravar\n",
    "    navegador.find_element(By.XPATH,'/html/body/div[1]/div/div/div[3]/button[1]').click()\n",
    "    "
   ]
  },
  {
   "cell_type": "code",
   "execution_count": 9,
   "id": "01496c59",
   "metadata": {},
   "outputs": [],
   "source": [
    "def suspendeProtocolo():\n",
    "    navegador.find_element(By.XPATH,'//button[@id=\"button-list-settings\"]').click() \n",
    "    navegador.find_element(By.XPATH,'//div[text()=\"Suspensão/Reativação\"]').click()\n",
    "    #Contrato\n",
    "    navegador.find_element(By.XPATH,'//span[@aria-label=\"Contrato activate\"]').click()                                              \n",
    "    navegador.find_element(By.XPATH,'//div[text()=\"Central IT - 61/SME/2018 de 16/06/2018\"]').click()                     \n",
    "    time.sleep(1)\n",
    "    #solicitante  \n",
    "    navegador.find_element(By.XPATH,'//input[@id=\"solicitante\"]').click().send_keys('PAULO HENRIQUE CAR')\n",
    "    navegador.find_element(By.XPATH,'//div/strong').click()\n",
    "    #Colocando Justificativa\n",
    "    navegador.find_element(By.XPATH,'//select[@id=\"idJustificativa\"]').click() #Justificativa                     \n",
    "    navegador.find_element(By.XPATH,'//option[@value=\"2\"]').click() #Justificativa\n",
    "    #Adicionando Texto\n",
    "    navegador.find_element(By.XPATH,'//textarea').click().send_keys('Aguardando tratativa da Vivo.')\n",
    "    #Botao Finalizar\n",
    "    navegador.find_element(By.XPATH,'//button[text()=\"Suspender\"]').click()"
   ]
  },
  {
   "cell_type": "code",
   "execution_count": 10,
   "id": "76269228",
   "metadata": {
    "scrolled": false
   },
   "outputs": [
    {
     "name": "stderr",
     "output_type": "stream",
     "text": [
      "[WDM] - Downloading: 16.9kB [00:00, 17.3MB/s]                                                                          \n"
     ]
    },
    {
     "ename": "ElementNotInteractableException",
     "evalue": "Message: Element <i class=\"material-icons md-18 ng-binding\"> could not be scrolled into view\nStacktrace:\nRemoteError@chrome://remote/content/shared/RemoteError.sys.mjs:8:8\nWebDriverError@chrome://remote/content/shared/webdriver/Errors.sys.mjs:180:5\nElementNotInteractableError@chrome://remote/content/shared/webdriver/Errors.sys.mjs:290:5\nwebdriverClickElement@chrome://remote/content/marionette/interaction.sys.mjs:150:11\ninteraction.clickElement@chrome://remote/content/marionette/interaction.sys.mjs:119:11\nclickElement@chrome://remote/content/marionette/actors/MarionetteCommandsChild.sys.mjs:198:29\nreceiveMessage@chrome://remote/content/marionette/actors/MarionetteCommandsChild.sys.mjs:86:31\n",
     "output_type": "error",
     "traceback": [
      "\u001b[1;31m---------------------------------------------------------------------------\u001b[0m",
      "\u001b[1;31mElementNotInteractableException\u001b[0m           Traceback (most recent call last)",
      "Input \u001b[1;32mIn [10]\u001b[0m, in \u001b[0;36m<cell line: 21>\u001b[1;34m()\u001b[0m\n\u001b[0;32m     19\u001b[0m time\u001b[38;5;241m.\u001b[39msleep(\u001b[38;5;241m1\u001b[39m)\n\u001b[0;32m     20\u001b[0m \u001b[38;5;66;03m#Captura protocolos\u001b[39;00m\n\u001b[1;32m---> 21\u001b[0m \u001b[43mcapturaProtocolo\u001b[49m\u001b[43m(\u001b[49m\u001b[43m)\u001b[49m\n\u001b[0;32m     22\u001b[0m time\u001b[38;5;241m.\u001b[39msleep(\u001b[38;5;241m10\u001b[39m)\n\u001b[0;32m     23\u001b[0m \u001b[38;5;66;03m#Suspender protocolos\u001b[39;00m\n",
      "Input \u001b[1;32mIn [5]\u001b[0m, in \u001b[0;36mcapturaProtocolo\u001b[1;34m()\u001b[0m\n\u001b[0;32m      1\u001b[0m \u001b[38;5;28;01mdef\u001b[39;00m \u001b[38;5;21mcapturaProtocolo\u001b[39m():\n\u001b[0;32m      2\u001b[0m     \u001b[38;5;66;03m#Seleciona checkbox\u001b[39;00m\n\u001b[1;32m----> 3\u001b[0m     \u001b[43mnavegador\u001b[49m\u001b[38;5;241;43m.\u001b[39;49m\u001b[43mfind_element\u001b[49m\u001b[43m(\u001b[49m\u001b[43mBy\u001b[49m\u001b[38;5;241;43m.\u001b[39;49m\u001b[43mXPATH\u001b[49m\u001b[43m,\u001b[49m\u001b[38;5;124;43m'\u001b[39;49m\u001b[38;5;124;43m/html/body/div[3]/div/div[2]/div/div[1]/div/form/div/div[2]/div[2]/div/div/div[3]/div[1]/div[1]/span/i\u001b[39;49m\u001b[38;5;124;43m'\u001b[39;49m\u001b[43m)\u001b[49m\u001b[38;5;241;43m.\u001b[39;49m\u001b[43mclick\u001b[49m\u001b[43m(\u001b[49m\u001b[43m)\u001b[49m\n\u001b[0;32m      4\u001b[0m     \u001b[38;5;66;03m#delegar\u001b[39;00m\n\u001b[0;32m      5\u001b[0m     navegador\u001b[38;5;241m.\u001b[39mfind_element(By\u001b[38;5;241m.\u001b[39mXPATH,\u001b[38;5;124m'\u001b[39m\u001b[38;5;124m/html/body/div[3]/div/div[2]/div/div[1]/div/form/div/div[2]/div[1]/div[2]/button[1]/i\u001b[39m\u001b[38;5;124m'\u001b[39m)\u001b[38;5;241m.\u001b[39mclick()\n",
      "File \u001b[1;32m~\\anaconda3\\lib\\site-packages\\selenium\\webdriver\\remote\\webelement.py:88\u001b[0m, in \u001b[0;36mWebElement.click\u001b[1;34m(self)\u001b[0m\n\u001b[0;32m     86\u001b[0m \u001b[38;5;28;01mdef\u001b[39;00m \u001b[38;5;21mclick\u001b[39m(\u001b[38;5;28mself\u001b[39m) \u001b[38;5;241m-\u001b[39m\u001b[38;5;241m>\u001b[39m \u001b[38;5;28;01mNone\u001b[39;00m:\n\u001b[0;32m     87\u001b[0m     \u001b[38;5;124;03m\"\"\"Clicks the element.\"\"\"\u001b[39;00m\n\u001b[1;32m---> 88\u001b[0m     \u001b[38;5;28;43mself\u001b[39;49m\u001b[38;5;241;43m.\u001b[39;49m\u001b[43m_execute\u001b[49m\u001b[43m(\u001b[49m\u001b[43mCommand\u001b[49m\u001b[38;5;241;43m.\u001b[39;49m\u001b[43mCLICK_ELEMENT\u001b[49m\u001b[43m)\u001b[49m\n",
      "File \u001b[1;32m~\\anaconda3\\lib\\site-packages\\selenium\\webdriver\\remote\\webelement.py:396\u001b[0m, in \u001b[0;36mWebElement._execute\u001b[1;34m(self, command, params)\u001b[0m\n\u001b[0;32m    394\u001b[0m     params \u001b[38;5;241m=\u001b[39m {}\n\u001b[0;32m    395\u001b[0m params[\u001b[38;5;124m'\u001b[39m\u001b[38;5;124mid\u001b[39m\u001b[38;5;124m'\u001b[39m] \u001b[38;5;241m=\u001b[39m \u001b[38;5;28mself\u001b[39m\u001b[38;5;241m.\u001b[39m_id\n\u001b[1;32m--> 396\u001b[0m \u001b[38;5;28;01mreturn\u001b[39;00m \u001b[38;5;28;43mself\u001b[39;49m\u001b[38;5;241;43m.\u001b[39;49m\u001b[43m_parent\u001b[49m\u001b[38;5;241;43m.\u001b[39;49m\u001b[43mexecute\u001b[49m\u001b[43m(\u001b[49m\u001b[43mcommand\u001b[49m\u001b[43m,\u001b[49m\u001b[43m \u001b[49m\u001b[43mparams\u001b[49m\u001b[43m)\u001b[49m\n",
      "File \u001b[1;32m~\\anaconda3\\lib\\site-packages\\selenium\\webdriver\\remote\\webdriver.py:428\u001b[0m, in \u001b[0;36mWebDriver.execute\u001b[1;34m(self, driver_command, params)\u001b[0m\n\u001b[0;32m    426\u001b[0m response \u001b[38;5;241m=\u001b[39m \u001b[38;5;28mself\u001b[39m\u001b[38;5;241m.\u001b[39mcommand_executor\u001b[38;5;241m.\u001b[39mexecute(driver_command, params)\n\u001b[0;32m    427\u001b[0m \u001b[38;5;28;01mif\u001b[39;00m response:\n\u001b[1;32m--> 428\u001b[0m     \u001b[38;5;28;43mself\u001b[39;49m\u001b[38;5;241;43m.\u001b[39;49m\u001b[43merror_handler\u001b[49m\u001b[38;5;241;43m.\u001b[39;49m\u001b[43mcheck_response\u001b[49m\u001b[43m(\u001b[49m\u001b[43mresponse\u001b[49m\u001b[43m)\u001b[49m\n\u001b[0;32m    429\u001b[0m     response[\u001b[38;5;124m'\u001b[39m\u001b[38;5;124mvalue\u001b[39m\u001b[38;5;124m'\u001b[39m] \u001b[38;5;241m=\u001b[39m \u001b[38;5;28mself\u001b[39m\u001b[38;5;241m.\u001b[39m_unwrap_value(\n\u001b[0;32m    430\u001b[0m         response\u001b[38;5;241m.\u001b[39mget(\u001b[38;5;124m'\u001b[39m\u001b[38;5;124mvalue\u001b[39m\u001b[38;5;124m'\u001b[39m, \u001b[38;5;28;01mNone\u001b[39;00m))\n\u001b[0;32m    431\u001b[0m     \u001b[38;5;28;01mreturn\u001b[39;00m response\n",
      "File \u001b[1;32m~\\anaconda3\\lib\\site-packages\\selenium\\webdriver\\remote\\errorhandler.py:243\u001b[0m, in \u001b[0;36mErrorHandler.check_response\u001b[1;34m(self, response)\u001b[0m\n\u001b[0;32m    241\u001b[0m         alert_text \u001b[38;5;241m=\u001b[39m value[\u001b[38;5;124m'\u001b[39m\u001b[38;5;124malert\u001b[39m\u001b[38;5;124m'\u001b[39m]\u001b[38;5;241m.\u001b[39mget(\u001b[38;5;124m'\u001b[39m\u001b[38;5;124mtext\u001b[39m\u001b[38;5;124m'\u001b[39m)\n\u001b[0;32m    242\u001b[0m     \u001b[38;5;28;01mraise\u001b[39;00m exception_class(message, screen, stacktrace, alert_text)  \u001b[38;5;66;03m# type: ignore[call-arg]  # mypy is not smart enough here\u001b[39;00m\n\u001b[1;32m--> 243\u001b[0m \u001b[38;5;28;01mraise\u001b[39;00m exception_class(message, screen, stacktrace)\n",
      "\u001b[1;31mElementNotInteractableException\u001b[0m: Message: Element <i class=\"material-icons md-18 ng-binding\"> could not be scrolled into view\nStacktrace:\nRemoteError@chrome://remote/content/shared/RemoteError.sys.mjs:8:8\nWebDriverError@chrome://remote/content/shared/webdriver/Errors.sys.mjs:180:5\nElementNotInteractableError@chrome://remote/content/shared/webdriver/Errors.sys.mjs:290:5\nwebdriverClickElement@chrome://remote/content/marionette/interaction.sys.mjs:150:11\ninteraction.clickElement@chrome://remote/content/marionette/interaction.sys.mjs:119:11\nclickElement@chrome://remote/content/marionette/actors/MarionetteCommandsChild.sys.mjs:198:29\nreceiveMessage@chrome://remote/content/marionette/actors/MarionetteCommandsChild.sys.mjs:86:31\n"
     ]
    }
   ],
   "source": [
    "#main\n",
    "s = Service(GeckoDriverManager().install())\n",
    "navegador = webdriver.Firefox(service = s)\n",
    "navegador.get('https://suporte.sme.prefeitura.sp.gov.br/citsmart/pages/smartDecisions/smartDecisions.load#/acesso-rapido')\n",
    "navegador.implicitly_wait(10)\n",
    "time.sleep(3)\n",
    "logandoCitsmart()\n",
    "acessandoSistema()\n",
    "#abre os tickets\n",
    "navegador.find_element(By.XPATH,'/html/body/div[3]/div/div[2]/div[1]/div/div/div[2]/div/div[2]/div/div[2]/div/div[2]/adf-widget-content/div/ul/li[1]/a').click()\n",
    "#atualizacao automatica\n",
    "navegador.find_element(By.XPATH,'/html/body/div[3]/div/div[2]/div/div[1]/div/form/div/div[2]/div[1]/div[2]/button[1]/i').click()\n",
    "time.sleep(1)\n",
    "organizaTicket()\n",
    "time.sleep(1)\n",
    "#Atualiza a Pagina\n",
    "#navegador.find_element_by_xpath(\"// i[contains(text(),'refresh')]\").click()\n",
    "navegador.find_element(By.XPATH,\"//i[contains(text(),'refresh')]\").click()\n",
    "time.sleep(1)\n",
    "#Captura protocolos\n",
    "capturaProtocolo()\n",
    "time.sleep(10)\n",
    "#Suspender protocolos\n",
    "suspendeProtocolo();\n",
    "#fecha mozila\n",
    "navegador.quit()\n"
   ]
  },
  {
   "cell_type": "markdown",
   "id": "6c4a8af9",
   "metadata": {},
   "source": [
    "# CitSmart - Finalizado"
   ]
  },
  {
   "cell_type": "markdown",
   "id": "012483ec",
   "metadata": {},
   "source": [
    "# CitSmart - \n",
    "### Instalando Webdriver + Driver manager"
   ]
  },
  {
   "cell_type": "code",
   "execution_count": null,
   "id": "854fc862",
   "metadata": {},
   "outputs": [],
   "source": [
    "from selenium import webdriver\n",
    "from webdriver_manager.chrome import ChromeDriverManager\n",
    "from selenium.webdriver.chrome.service import Service\n",
    "\n",
    "servico = Service(ChromeDriverManager().install())\n",
    "navegador = webdriver.Chrome(service=servico)\n",
    "navegador.get(\"https://www.youtube.com\")"
   ]
  },
  {
   "cell_type": "code",
   "execution_count": null,
   "id": "8d50af4c",
   "metadata": {},
   "outputs": [],
   "source": [
    "from selenium import webdriver\n",
    "from webdriver_manager.firefox import GeckoDriverManager\n",
    "from selenium.webdriver.firefox.service import Service\n",
    "\n",
    "servico = Service(GeckoDriverManager().install())\n",
    "navegador = webdriver.Firefox(service=servico)\n",
    "navegador.get(\"https://www.youtube.com\")"
   ]
  },
  {
   "cell_type": "code",
   "execution_count": null,
   "id": "c01358d8",
   "metadata": {},
   "outputs": [],
   "source": []
  }
 ],
 "metadata": {
  "kernelspec": {
   "display_name": "Python 3 (ipykernel)",
   "language": "python",
   "name": "python3"
  },
  "language_info": {
   "codemirror_mode": {
    "name": "ipython",
    "version": 3
   },
   "file_extension": ".py",
   "mimetype": "text/x-python",
   "name": "python",
   "nbconvert_exporter": "python",
   "pygments_lexer": "ipython3",
   "version": "3.9.12"
  }
 },
 "nbformat": 4,
 "nbformat_minor": 5
}
