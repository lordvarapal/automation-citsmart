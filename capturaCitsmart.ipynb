{
 "cells": [
  {
   "cell_type": "markdown",
   "id": "767ad7d9",
   "metadata": {},
   "source": [
    "# Citsmart - Captura de protocolo"
   ]
  },
  {
   "cell_type": "markdown",
   "id": "c4ad8b9b",
   "metadata": {},
   "source": [
    "Este protocolo, tem como objetivo capiturar os protocolos que chegam no NOC."
   ]
  },
  {
   "cell_type": "code",
   "execution_count": 1,
   "id": "07ab3120",
   "metadata": {},
   "outputs": [],
   "source": [
    "from selenium import webdriver\n",
    "import time"
   ]
  },
  {
   "cell_type": "code",
   "execution_count": 2,
   "id": "ca7012b4",
   "metadata": {},
   "outputs": [],
   "source": [
    "#selecionar citsmart local e fazer o login\n",
    "def logandoCitsmart():\n",
    "    navegador.find_element_by_xpath('/html/body/div[3]/div[1]/div/div/form/div[2]/div/div/div/div/span').click() #abrindo opcoes\n",
    "    navegador.find_element_by_xpath('/html/body/div[3]/div[1]/div/div/form/div[2]/div/div/div/div/ul/li[1]/a/span').click() #selecionando \n",
    "    navegador.find_element_by_xpath('//*[@id=\"user_login\"]').send_keys('thiago.lima') #login\n",
    "    navegador.find_element_by_xpath('//*[@id=\"senha\"]').send_keys('123456') #senha\n",
    "    navegador.find_element_by_xpath('//*[@id=\"btnEntrar\"]').click() #logar\n",
    "    "
   ]
  },
  {
   "cell_type": "code",
   "execution_count": 3,
   "id": "07417083",
   "metadata": {},
   "outputs": [],
   "source": [
    "#abre a dasboard somente do NOC\n",
    "def organizaTicket():\n",
    "    navegador.find_element_by_xpath('//*[@id=\"open-advanced-search\"]').click()#abrindo opcoes\n",
    "    navegador.find_element_by_xpath('//*[@id=\"select-grupo-executor\"]').click()#abrindo grupo executor NOC\n",
    "    navegador.find_element_by_xpath('/html/body/div[3]/div/div[2]/div/div[1]/div/form/div/div[1]/div/div/div[2]/div/div/div[1]/div[7]/div/select/option[9]').click()#colocando NOC\n",
    "    navegador.find_element_by_xpath('//*[@id=\"select-filtro-situacao\"]').click()#abrindo situacao.\n",
    "    navegador.find_element_by_xpath('/html/body/div[3]/div/div[2]/div/div[1]/div/form/div/div[1]/div/div/div[2]/div/div/div[1]/div[5]/div/select/option[2]').click()#colocando 'em andamento'\n",
    "    navegador.find_element_by_xpath('//*[@id=\"open-advanced-search\"]').click()#fechando opcoes"
   ]
  },
  {
   "cell_type": "code",
   "execution_count": 4,
   "id": "ab43f2ee",
   "metadata": {},
   "outputs": [],
   "source": [
    "def acessandoSistema():\n",
    "    navegador.find_element_by_xpath('/html/body/div[3]/div/header/div/div/div[1]/div[3]/a/i').click()#abrindo opcoes\n",
    "    navegador.find_element_by_xpath('/html/body/div[3]/div/header/div/div/div[1]/div[3]/div/div/div[2]/div/ul/li[1]/a/span').click()#abrindo fila de atendimento"
   ]
  },
  {
   "cell_type": "code",
   "execution_count": 5,
   "id": "8d865ff9",
   "metadata": {},
   "outputs": [],
   "source": [
    "def capturaProtocolo():\n",
    "    #Seleciona checkbox\n",
    "    navegador.find_element_by_xpath('/html/body/div[3]/div/div[2]/div/div[1]/div/form/div/div[2]/div[2]/div/div/div[3]/div[1]/div[1]/span/i').click()\n",
    "    #delegar\n",
    "    navegador.find_element_by_xpath('/html/body/div[3]/div/div[2]/div/div[1]/div/form/div/div[2]/div[1]/div[2]/button[1]/i').click()\n",
    "    time.sleep(4)\n",
    "    #escrever nome\n",
    "    #navegador.find_element_by_xpath('//*[@id=\"userAutocomplete\"]').send_keys('thiago borges')\n",
    "    #selecionar pessoa\n",
    "    navegador.find_element_by_xpath('/html/body/div[1]/div/div/div[2]/form/div[1]/div/div/div/div/ul[1]/li/a').click()\n",
    "    #selecionar grupo\n",
    "    navegador.find_element_by_xpath('//*[@id=\"delegation-id-group\"]').click()\n",
    "    #selecionar noc\n",
    "    time.sleep()\n",
    "    navegador.find_element_by_xpath('/html/body/div[1]/div/div/div[2]/form/div[2]/div/div/select/option[7]').click()\n",
    "    #justificativa\n",
    "    navegador.find_element_by_xpath('//*[@id=\"delegation-justification\"]').send_keys('Protocolo capturado.')\n",
    "    time.sleep(2)\n",
    "    #gravar\n",
    "    navegador.find_element_by_xpath('/html/body/div[1]/div/div/div[3]/button[1]').click()\n",
    "    "
   ]
  },
  {
   "cell_type": "code",
   "execution_count": 6,
   "id": "76269228",
   "metadata": {
    "scrolled": false
   },
   "outputs": [
    {
     "name": "stderr",
     "output_type": "stream",
     "text": [
      "C:\\Users\\Thiago\\AppData\\Local\\Temp/ipykernel_18808/1268659702.py:3: DeprecationWarning: find_element_by_* commands are deprecated. Please use find_element() instead\n",
      "  navegador.find_element_by_xpath('/html/body/div[3]/div[1]/div/div/form/div[2]/div/div/div/div/span').click() #abrindo opcoes\n",
      "C:\\Users\\Thiago\\AppData\\Local\\Temp/ipykernel_18808/1268659702.py:4: DeprecationWarning: find_element_by_* commands are deprecated. Please use find_element() instead\n",
      "  navegador.find_element_by_xpath('/html/body/div[3]/div[1]/div/div/form/div[2]/div/div/div/div/ul/li[1]/a/span').click() #selecionando\n",
      "C:\\Users\\Thiago\\AppData\\Local\\Temp/ipykernel_18808/1268659702.py:5: DeprecationWarning: find_element_by_* commands are deprecated. Please use find_element() instead\n",
      "  navegador.find_element_by_xpath('//*[@id=\"user_login\"]').send_keys('thiago.lima') #login\n",
      "C:\\Users\\Thiago\\AppData\\Local\\Temp/ipykernel_18808/1268659702.py:6: DeprecationWarning: find_element_by_* commands are deprecated. Please use find_element() instead\n",
      "  navegador.find_element_by_xpath('//*[@id=\"senha\"]').send_keys('123456') #senha\n",
      "C:\\Users\\Thiago\\AppData\\Local\\Temp/ipykernel_18808/1268659702.py:7: DeprecationWarning: find_element_by_* commands are deprecated. Please use find_element() instead\n",
      "  navegador.find_element_by_xpath('//*[@id=\"btnEntrar\"]').click() #logar\n",
      "C:\\Users\\Thiago\\AppData\\Local\\Temp/ipykernel_18808/745876266.py:2: DeprecationWarning: find_element_by_* commands are deprecated. Please use find_element() instead\n",
      "  navegador.find_element_by_xpath('/html/body/div[3]/div/header/div/div/div[1]/div[3]/a/i').click()#abrindo opcoes\n"
     ]
    },
    {
     "ename": "WebDriverException",
     "evalue": "Message: Failed to convert data to an object\n",
     "output_type": "error",
     "traceback": [
      "\u001b[1;31m---------------------------------------------------------------------------\u001b[0m",
      "\u001b[1;31mWebDriverException\u001b[0m                        Traceback (most recent call last)",
      "\u001b[1;32m~\\AppData\\Local\\Temp/ipykernel_18808/764764494.py\u001b[0m in \u001b[0;36m<module>\u001b[1;34m\u001b[0m\n\u001b[0;32m      5\u001b[0m \u001b[0mtime\u001b[0m\u001b[1;33m.\u001b[0m\u001b[0msleep\u001b[0m\u001b[1;33m(\u001b[0m\u001b[1;36m3\u001b[0m\u001b[1;33m)\u001b[0m\u001b[1;33m\u001b[0m\u001b[1;33m\u001b[0m\u001b[0m\n\u001b[0;32m      6\u001b[0m \u001b[0mlogandoCitsmart\u001b[0m\u001b[1;33m(\u001b[0m\u001b[1;33m)\u001b[0m\u001b[1;33m\u001b[0m\u001b[1;33m\u001b[0m\u001b[0m\n\u001b[1;32m----> 7\u001b[1;33m \u001b[0macessandoSistema\u001b[0m\u001b[1;33m(\u001b[0m\u001b[1;33m)\u001b[0m\u001b[1;33m\u001b[0m\u001b[1;33m\u001b[0m\u001b[0m\n\u001b[0m\u001b[0;32m      8\u001b[0m \u001b[1;31m#abre os tickets\u001b[0m\u001b[1;33m\u001b[0m\u001b[1;33m\u001b[0m\u001b[0m\n\u001b[0;32m      9\u001b[0m \u001b[0mnavegador\u001b[0m\u001b[1;33m.\u001b[0m\u001b[0mfind_element_by_xpath\u001b[0m\u001b[1;33m(\u001b[0m\u001b[1;34m'/html/body/div[3]/div/div[2]/div[1]/div/div/div[2]/div/div[2]/div/div[2]/div/div[2]/adf-widget-content/div/ul/li[1]/a'\u001b[0m\u001b[1;33m)\u001b[0m\u001b[1;33m.\u001b[0m\u001b[0mclick\u001b[0m\u001b[1;33m(\u001b[0m\u001b[1;33m)\u001b[0m\u001b[1;33m\u001b[0m\u001b[1;33m\u001b[0m\u001b[0m\n",
      "\u001b[1;32m~\\AppData\\Local\\Temp/ipykernel_18808/745876266.py\u001b[0m in \u001b[0;36macessandoSistema\u001b[1;34m()\u001b[0m\n\u001b[0;32m      1\u001b[0m \u001b[1;32mdef\u001b[0m \u001b[0macessandoSistema\u001b[0m\u001b[1;33m(\u001b[0m\u001b[1;33m)\u001b[0m\u001b[1;33m:\u001b[0m\u001b[1;33m\u001b[0m\u001b[1;33m\u001b[0m\u001b[0m\n\u001b[1;32m----> 2\u001b[1;33m     \u001b[0mnavegador\u001b[0m\u001b[1;33m.\u001b[0m\u001b[0mfind_element_by_xpath\u001b[0m\u001b[1;33m(\u001b[0m\u001b[1;34m'/html/body/div[3]/div/header/div/div/div[1]/div[3]/a/i'\u001b[0m\u001b[1;33m)\u001b[0m\u001b[1;33m.\u001b[0m\u001b[0mclick\u001b[0m\u001b[1;33m(\u001b[0m\u001b[1;33m)\u001b[0m\u001b[1;31m#abrindo opcoes\u001b[0m\u001b[1;33m\u001b[0m\u001b[1;33m\u001b[0m\u001b[0m\n\u001b[0m\u001b[0;32m      3\u001b[0m     \u001b[0mnavegador\u001b[0m\u001b[1;33m.\u001b[0m\u001b[0mfind_element_by_xpath\u001b[0m\u001b[1;33m(\u001b[0m\u001b[1;34m'/html/body/div[3]/div/header/div/div/div[1]/div[3]/div/div/div[2]/div/ul/li[1]/a/span'\u001b[0m\u001b[1;33m)\u001b[0m\u001b[1;33m.\u001b[0m\u001b[0mclick\u001b[0m\u001b[1;33m(\u001b[0m\u001b[1;33m)\u001b[0m\u001b[1;31m#abrindo fila de atendimento\u001b[0m\u001b[1;33m\u001b[0m\u001b[1;33m\u001b[0m\u001b[0m\n",
      "\u001b[1;32m~\\anaconda3\\lib\\site-packages\\selenium\\webdriver\\remote\\webdriver.py\u001b[0m in \u001b[0;36mfind_element_by_xpath\u001b[1;34m(self, xpath)\u001b[0m\n\u001b[0;32m    518\u001b[0m             \u001b[0mstacklevel\u001b[0m\u001b[1;33m=\u001b[0m\u001b[1;36m2\u001b[0m\u001b[1;33m,\u001b[0m\u001b[1;33m\u001b[0m\u001b[1;33m\u001b[0m\u001b[0m\n\u001b[0;32m    519\u001b[0m         )\n\u001b[1;32m--> 520\u001b[1;33m         \u001b[1;32mreturn\u001b[0m \u001b[0mself\u001b[0m\u001b[1;33m.\u001b[0m\u001b[0mfind_element\u001b[0m\u001b[1;33m(\u001b[0m\u001b[0mby\u001b[0m\u001b[1;33m=\u001b[0m\u001b[0mBy\u001b[0m\u001b[1;33m.\u001b[0m\u001b[0mXPATH\u001b[0m\u001b[1;33m,\u001b[0m \u001b[0mvalue\u001b[0m\u001b[1;33m=\u001b[0m\u001b[0mxpath\u001b[0m\u001b[1;33m)\u001b[0m\u001b[1;33m\u001b[0m\u001b[1;33m\u001b[0m\u001b[0m\n\u001b[0m\u001b[0;32m    521\u001b[0m \u001b[1;33m\u001b[0m\u001b[0m\n\u001b[0;32m    522\u001b[0m     \u001b[1;32mdef\u001b[0m \u001b[0mfind_elements_by_xpath\u001b[0m\u001b[1;33m(\u001b[0m\u001b[0mself\u001b[0m\u001b[1;33m,\u001b[0m \u001b[0mxpath\u001b[0m\u001b[1;33m)\u001b[0m \u001b[1;33m->\u001b[0m \u001b[0mWebElement\u001b[0m\u001b[1;33m:\u001b[0m\u001b[1;33m\u001b[0m\u001b[1;33m\u001b[0m\u001b[0m\n",
      "\u001b[1;32m~\\anaconda3\\lib\\site-packages\\selenium\\webdriver\\remote\\webdriver.py\u001b[0m in \u001b[0;36mfind_element\u001b[1;34m(self, by, value)\u001b[0m\n\u001b[0;32m   1242\u001b[0m             \u001b[0mvalue\u001b[0m \u001b[1;33m=\u001b[0m \u001b[1;34m'[name=\"%s\"]'\u001b[0m \u001b[1;33m%\u001b[0m \u001b[0mvalue\u001b[0m\u001b[1;33m\u001b[0m\u001b[1;33m\u001b[0m\u001b[0m\n\u001b[0;32m   1243\u001b[0m \u001b[1;33m\u001b[0m\u001b[0m\n\u001b[1;32m-> 1244\u001b[1;33m         return self.execute(Command.FIND_ELEMENT, {\n\u001b[0m\u001b[0;32m   1245\u001b[0m             \u001b[1;34m'using'\u001b[0m\u001b[1;33m:\u001b[0m \u001b[0mby\u001b[0m\u001b[1;33m,\u001b[0m\u001b[1;33m\u001b[0m\u001b[1;33m\u001b[0m\u001b[0m\n\u001b[0;32m   1246\u001b[0m             'value': value})['value']\n",
      "\u001b[1;32m~\\anaconda3\\lib\\site-packages\\selenium\\webdriver\\remote\\webdriver.py\u001b[0m in \u001b[0;36mexecute\u001b[1;34m(self, driver_command, params)\u001b[0m\n\u001b[0;32m    422\u001b[0m         \u001b[0mresponse\u001b[0m \u001b[1;33m=\u001b[0m \u001b[0mself\u001b[0m\u001b[1;33m.\u001b[0m\u001b[0mcommand_executor\u001b[0m\u001b[1;33m.\u001b[0m\u001b[0mexecute\u001b[0m\u001b[1;33m(\u001b[0m\u001b[0mdriver_command\u001b[0m\u001b[1;33m,\u001b[0m \u001b[0mparams\u001b[0m\u001b[1;33m)\u001b[0m\u001b[1;33m\u001b[0m\u001b[1;33m\u001b[0m\u001b[0m\n\u001b[0;32m    423\u001b[0m         \u001b[1;32mif\u001b[0m \u001b[0mresponse\u001b[0m\u001b[1;33m:\u001b[0m\u001b[1;33m\u001b[0m\u001b[1;33m\u001b[0m\u001b[0m\n\u001b[1;32m--> 424\u001b[1;33m             \u001b[0mself\u001b[0m\u001b[1;33m.\u001b[0m\u001b[0merror_handler\u001b[0m\u001b[1;33m.\u001b[0m\u001b[0mcheck_response\u001b[0m\u001b[1;33m(\u001b[0m\u001b[0mresponse\u001b[0m\u001b[1;33m)\u001b[0m\u001b[1;33m\u001b[0m\u001b[1;33m\u001b[0m\u001b[0m\n\u001b[0m\u001b[0;32m    425\u001b[0m             response['value'] = self._unwrap_value(\n\u001b[0;32m    426\u001b[0m                 response.get('value', None))\n",
      "\u001b[1;32m~\\anaconda3\\lib\\site-packages\\selenium\\webdriver\\remote\\errorhandler.py\u001b[0m in \u001b[0;36mcheck_response\u001b[1;34m(self, response)\u001b[0m\n\u001b[0;32m    245\u001b[0m                 \u001b[0malert_text\u001b[0m \u001b[1;33m=\u001b[0m \u001b[0mvalue\u001b[0m\u001b[1;33m[\u001b[0m\u001b[1;34m'alert'\u001b[0m\u001b[1;33m]\u001b[0m\u001b[1;33m.\u001b[0m\u001b[0mget\u001b[0m\u001b[1;33m(\u001b[0m\u001b[1;34m'text'\u001b[0m\u001b[1;33m)\u001b[0m\u001b[1;33m\u001b[0m\u001b[1;33m\u001b[0m\u001b[0m\n\u001b[0;32m    246\u001b[0m             \u001b[1;32mraise\u001b[0m \u001b[0mexception_class\u001b[0m\u001b[1;33m(\u001b[0m\u001b[0mmessage\u001b[0m\u001b[1;33m,\u001b[0m \u001b[0mscreen\u001b[0m\u001b[1;33m,\u001b[0m \u001b[0mstacktrace\u001b[0m\u001b[1;33m,\u001b[0m \u001b[0malert_text\u001b[0m\u001b[1;33m)\u001b[0m  \u001b[1;31m# type: ignore[call-arg]  # mypy is not smart enough here\u001b[0m\u001b[1;33m\u001b[0m\u001b[1;33m\u001b[0m\u001b[0m\n\u001b[1;32m--> 247\u001b[1;33m         \u001b[1;32mraise\u001b[0m \u001b[0mexception_class\u001b[0m\u001b[1;33m(\u001b[0m\u001b[0mmessage\u001b[0m\u001b[1;33m,\u001b[0m \u001b[0mscreen\u001b[0m\u001b[1;33m,\u001b[0m \u001b[0mstacktrace\u001b[0m\u001b[1;33m)\u001b[0m\u001b[1;33m\u001b[0m\u001b[1;33m\u001b[0m\u001b[0m\n\u001b[0m\u001b[0;32m    248\u001b[0m \u001b[1;33m\u001b[0m\u001b[0m\n\u001b[0;32m    249\u001b[0m     \u001b[1;32mdef\u001b[0m \u001b[0m_value_or_default\u001b[0m\u001b[1;33m(\u001b[0m\u001b[0mself\u001b[0m\u001b[1;33m,\u001b[0m \u001b[0mobj\u001b[0m\u001b[1;33m:\u001b[0m \u001b[0mMapping\u001b[0m\u001b[1;33m[\u001b[0m\u001b[0m_KT\u001b[0m\u001b[1;33m,\u001b[0m \u001b[0m_VT\u001b[0m\u001b[1;33m]\u001b[0m\u001b[1;33m,\u001b[0m \u001b[0mkey\u001b[0m\u001b[1;33m:\u001b[0m \u001b[0m_KT\u001b[0m\u001b[1;33m,\u001b[0m \u001b[0mdefault\u001b[0m\u001b[1;33m:\u001b[0m \u001b[0m_VT\u001b[0m\u001b[1;33m)\u001b[0m \u001b[1;33m->\u001b[0m \u001b[0m_VT\u001b[0m\u001b[1;33m:\u001b[0m\u001b[1;33m\u001b[0m\u001b[1;33m\u001b[0m\u001b[0m\n",
      "\u001b[1;31mWebDriverException\u001b[0m: Message: Failed to convert data to an object\n"
     ]
    }
   ],
   "source": [
    "#main\n",
    "navegador = webdriver.Firefox()\n",
    "navegador.get('https://suporte.sme.prefeitura.sp.gov.br/citsmart/pages/smartDecisions/smartDecisions.load#/acesso-rapido')\n",
    "navegador.implicitly_wait(10)\n",
    "time.sleep(3)\n",
    "logandoCitsmart()\n",
    "acessandoSistema()\n",
    "#abre os tickets\n",
    "navegador.find_element_by_xpath('/html/body/div[3]/div/div[2]/div[1]/div/div/div[2]/div/div[2]/div/div[2]/div/div[2]/adf-widget-content/div/ul/li[1]/a').click()\n",
    "#atualizacao automatica\n",
    "navegador.find_element_by_xpath('/html/body/div[3]/div/div[2]/div/div[1]/div/form/div/div[2]/div[1]/div[2]/button[1]/i').click()\n",
    "time.sleep(1)\n",
    "organizaTicket()\n"
   ]
  },
  {
   "cell_type": "code",
   "execution_count": null,
   "id": "b7c4bfff",
   "metadata": {},
   "outputs": [],
   "source": [
    "#Atualiza a Pagina\n",
    "navegador.find_element_by_xpath('/html/body/div[3]/div/div[2]/div/div[1]/div/form/div/div[2]/div[1]/div[2]/button[2]/i').click()\n"
   ]
  },
  {
   "cell_type": "code",
   "execution_count": 7,
   "id": "13d5fa89",
   "metadata": {},
   "outputs": [
    {
     "name": "stderr",
     "output_type": "stream",
     "text": [
      "C:\\Users\\Thiago\\AppData\\Local\\Temp/ipykernel_20856/3181733512.py:3: DeprecationWarning: find_element_by_* commands are deprecated. Please use find_element() instead\n",
      "  navegador.find_element_by_xpath('/html/body/div[3]/div/div[2]/div/div[1]/div/form/div/div[2]/div[2]/div/div/div[3]/div[1]/div[1]/span/i').click()\n",
      "C:\\Users\\Thiago\\AppData\\Local\\Temp/ipykernel_20856/3181733512.py:5: DeprecationWarning: find_element_by_* commands are deprecated. Please use find_element() instead\n",
      "  navegador.find_element_by_xpath('/html/body/div[3]/div/div[2]/div/div[1]/div/form/div/div[2]/div[1]/div[2]/button[1]/i').click()\n",
      "C:\\Users\\Thiago\\AppData\\Local\\Temp/ipykernel_20856/3181733512.py:10: DeprecationWarning: find_element_by_* commands are deprecated. Please use find_element() instead\n",
      "  navegador.find_element_by_xpath('/html/body/div[1]/div/div/div[2]/form/div[1]/div/div/div/div/ul[1]/li/a').click()\n",
      "C:\\Users\\Thiago\\AppData\\Local\\Temp/ipykernel_20856/3181733512.py:12: DeprecationWarning: find_element_by_* commands are deprecated. Please use find_element() instead\n",
      "  navegador.find_element_by_xpath('//*[@id=\"delegation-id-group\"]').click()\n",
      "C:\\Users\\Thiago\\AppData\\Local\\Temp/ipykernel_20856/3181733512.py:15: DeprecationWarning: find_element_by_* commands are deprecated. Please use find_element() instead\n",
      "  navegador.find_element_by_xpath('/html/body/div[1]/div/div/div[2]/form/div[2]/div/div/select/option[7]').click()\n",
      "C:\\Users\\Thiago\\AppData\\Local\\Temp/ipykernel_20856/3181733512.py:17: DeprecationWarning: find_element_by_* commands are deprecated. Please use find_element() instead\n",
      "  navegador.find_element_by_xpath('//*[@id=\"delegation-justification\"]').send_keys('Protocolo capturado.')\n",
      "C:\\Users\\Thiago\\AppData\\Local\\Temp/ipykernel_20856/3181733512.py:20: DeprecationWarning: find_element_by_* commands are deprecated. Please use find_element() instead\n",
      "  navegador.find_element_by_xpath('/html/body/div[1]/div/div/div[3]/button[1]').click()\n"
     ]
    }
   ],
   "source": [
    "#Captura protocolos\n",
    "capturaProtocolo()"
   ]
  },
  {
   "cell_type": "code",
   "execution_count": null,
   "id": "b7f6c235",
   "metadata": {},
   "outputs": [],
   "source": []
  }
 ],
 "metadata": {
  "kernelspec": {
   "display_name": "Python 3 (ipykernel)",
   "language": "python",
   "name": "python3"
  },
  "language_info": {
   "codemirror_mode": {
    "name": "ipython",
    "version": 3
   },
   "file_extension": ".py",
   "mimetype": "text/x-python",
   "name": "python",
   "nbconvert_exporter": "python",
   "pygments_lexer": "ipython3",
   "version": "3.9.7"
  }
 },
 "nbformat": 4,
 "nbformat_minor": 5
}
