{
 "cells": [
  {
   "cell_type": "markdown",
   "id": "767ad7d9",
   "metadata": {},
   "source": [
    "# Citsmart - Captura de protocolo\n",
    "### Este protocolo, tem como objetivo capiturar os protocolos que chegam no NOC."
   ]
  },
  {
   "cell_type": "markdown",
   "id": "c4ad8b9b",
   "metadata": {},
   "source": [
    "Este protocolo, tem como objetivo capiturar os protocolos que chegam no NOC."
   ]
  },
  {
   "cell_type": "code",
   "execution_count": 1,
   "id": "07ab3120",
   "metadata": {},
   "outputs": [],
   "source": [
    "from selenium import webdriver\n",
    "from selenium.webdriver.firefox.service import Service\n",
    "from selenium.webdriver.common.by import By\n",
    "import time"
   ]
  },
  {
   "cell_type": "code",
   "execution_count": 2,
   "id": "ca7012b4",
   "metadata": {},
   "outputs": [],
   "source": [
    "#selecionar citsmart local e fazer o login\n",
    "def logandoCitsmart():\n",
    "    navegador.find_element(By.XPATH,'/html/body/div[3]/div[1]/div/div/form/div[2]/div/div/div/div/span').click() #abrindo opcoes\n",
    "    navegador.find_element(By.XPATH,'/html/body/div[3]/div[1]/div/div/form/div[2]/div/div/div/div/ul/li[1]/a/span').click() #selecionando \n",
    "    navegador.find_element(By.XPATH,'//*[@id=\"user_login\"]').send_keys('thiago.lima') #login\n",
    "    navegador.find_element(By.XPATH,'//*[@id=\"senha\"]').send_keys('Mud@r2345') #senha\n",
    "    navegador.find_element(By.XPATH,'//*[@id=\"btnEntrar\"]').click() #logar\n",
    "    "
   ]
  },
  {
   "cell_type": "code",
   "execution_count": 3,
   "id": "07417083",
   "metadata": {},
   "outputs": [],
   "source": [
    "#abre a dasboard somente do NOC\n",
    "def organizaTicket():\n",
    "    navegador.find_element(By.XPATH,'//*[@id=\"open-advanced-search\"]').click()#abrindo opcoes\n",
    "    navegador.find_element(By.XPATH,'//*[@id=\"select-grupo-executor\"]').click()#abrindo grupo executor NOC\n",
    "    navegador.find_element(By.XPATH,'/html/body/div[3]/div/div[2]/div/div[1]/div/form/div/div[1]/div/div/div[2]/div/div/div[1]/div[7]/div/select/option[9]').click()#colocando NOC\n",
    "    navegador.find_element(By.XPATH,'//*[@id=\"select-filtro-situacao\"]').click()#abrindo situacao.\n",
    "    navegador.find_element(By.XPATH,'/html/body/div[3]/div/div[2]/div/div[1]/div/form/div/div[1]/div/div/div[2]/div/div/div[1]/div[5]/div/select/option[2]').click()#colocando 'em andamento'\n",
    "    navegador.find_element(By.XPATH,'//*[@id=\"open-advanced-search\"]').click()#fechando opcoes"
   ]
  },
  {
   "cell_type": "code",
   "execution_count": 4,
   "id": "ab43f2ee",
   "metadata": {},
   "outputs": [],
   "source": [
    "def acessandoSistema():\n",
    "    navegador.find_element(By.XPATH,'/html/body/div[3]/div/header/div/div/div[1]/div[3]/a/i').click()#abrindo opcoes\n",
    "    navegador.find_element(By.XPATH,'/html/body/div[3]/div/header/div/div/div[1]/div[3]/div/div/div[2]/div/ul/li[1]/a/span').click()#abrindo fila de atendimento"
   ]
  },
  {
   "cell_type": "code",
   "execution_count": 5,
   "id": "8d865ff9",
   "metadata": {},
   "outputs": [],
   "source": [
    "def capturaProtocolo():\n",
    "    #Seleciona checkbox\n",
    "    navegador.find_element(By.XPATH,'/html/body/div[3]/div/div[2]/div/div[1]/div/form/div/div[2]/div[2]/div/div/div[3]/div[1]/div[1]/span/i').click()\n",
    "    #delegar\n",
    "    navegador.find_element(By.XPATH,'/html/body/div[3]/div/div[2]/div/div[1]/div/form/div/div[2]/div[1]/div[2]/button[1]/i').click()\n",
    "    time.sleep(1)\n",
    "    #escrever nome\n",
    "    navegador.find_element(By.XPATH,'//input[@name = \"userAutocomplete\"]').send_keys('thiago borges')\n",
    "    time.sleep(0.8)\n",
    "    #selecionar pessoa\n",
    "    navegador.find_element(By.XPATH,'//a[@title = \"Thiago Borges De Lima - 4985\"]').click()\n",
    "    #selecionar grupo\n",
    "    time.sleep(0.5)\n",
    "    navegador.find_element(By.XPATH,'//select[@id=\"delegation-id-group\"]').click()\n",
    "    #selecionar noc\n",
    "    time.sleep(0.5)\n",
    "    navegador.find_element(By.XPATH,'(//option[@value=\"number:21\"])[1]').click()\n",
    "    #justificativa\n",
    "    navegador.find_element(By.XPATH,'//textarea[@id=\"delegation-justification\"]').send_keys('Protocolo capturado.')\n",
    "    time.sleep(2)\n",
    "    #gravar\n",
    "    navegador.find_element(By.XPATH,'/html/body/div[1]/div/div/div[3]/button[1]').click()\n",
    "    "
   ]
  },
  {
   "cell_type": "code",
   "execution_count": 6,
   "id": "01496c59",
   "metadata": {},
   "outputs": [],
   "source": [
    "def suspendeProtocolo():\n",
    "    navegador.find_element(By.XPATH,\"(//span[text()='Normal'])[1]\").click()\n",
    "    time.sleep(0.5)\n",
    "    navegador.find_element(By.XPATH,'//button[@title=\"Mais Opções\"]').click()\n",
    "    time.sleep(0.5)\n",
    "    navegador.find_element(By.XPATH,'//button[@id=\"list-item-options-suspender\"]').click()\n",
    "    time.sleep(1)\n",
    "    #Colocando Justificativa\n",
    "    navegador.find_element(By.XPATH,'//select[@id=\"idJustificativa\"]').click()\n",
    "    navegador.find_element(By.XPATH,'//option[@value=\"2\"]').click() #Justificativa\n",
    "    #Adicionando Texto\n",
    "    navegador.find_element(By.XPATH,'//textarea[@id=\"complementoJustificativa\"]').send_keys('Aguardando tratativa da Vivo.')\n",
    "    #Botao Finalizar\n",
    "    navegador.find_element(By.XPATH,'//button[text()=\"Gravar\"]').click()"
   ]
  },
  {
   "cell_type": "code",
   "execution_count": 1,
   "id": "76269228",
   "metadata": {
    "scrolled": false
   },
   "outputs": [
    {
     "ename": "NameError",
     "evalue": "name 'Service' is not defined",
     "output_type": "error",
     "traceback": [
      "\u001b[1;31m---------------------------------------------------------------------------\u001b[0m",
      "\u001b[1;31mNameError\u001b[0m                                 Traceback (most recent call last)",
      "\u001b[1;32m~\\AppData\\Local\\Temp/ipykernel_15292/2596604137.py\u001b[0m in \u001b[0;36m<module>\u001b[1;34m\u001b[0m\n\u001b[0;32m      1\u001b[0m \u001b[1;31m#main\u001b[0m\u001b[1;33m\u001b[0m\u001b[1;33m\u001b[0m\u001b[0m\n\u001b[1;32m----> 2\u001b[1;33m \u001b[0ms\u001b[0m \u001b[1;33m=\u001b[0m \u001b[0mService\u001b[0m\u001b[1;33m(\u001b[0m\u001b[1;33m)\u001b[0m\u001b[1;33m\u001b[0m\u001b[1;33m\u001b[0m\u001b[0m\n\u001b[0m\u001b[0;32m      3\u001b[0m \u001b[0mnavegador\u001b[0m \u001b[1;33m=\u001b[0m \u001b[0mwebdriver\u001b[0m\u001b[1;33m.\u001b[0m\u001b[0mFirefox\u001b[0m\u001b[1;33m(\u001b[0m\u001b[0mservice\u001b[0m\u001b[1;33m=\u001b[0m \u001b[0ms\u001b[0m\u001b[1;33m)\u001b[0m\u001b[1;33m\u001b[0m\u001b[1;33m\u001b[0m\u001b[0m\n\u001b[0;32m      4\u001b[0m \u001b[0mnavegador\u001b[0m\u001b[1;33m.\u001b[0m\u001b[0mget\u001b[0m\u001b[1;33m(\u001b[0m\u001b[1;34m'https://suporte.sme.prefeitura.sp.gov.br/citsmart/pages/smartDecisions/smartDecisions.load#/acesso-rapido'\u001b[0m\u001b[1;33m)\u001b[0m\u001b[1;33m\u001b[0m\u001b[1;33m\u001b[0m\u001b[0m\n\u001b[0;32m      5\u001b[0m \u001b[0mnavegador\u001b[0m\u001b[1;33m.\u001b[0m\u001b[0mimplicitly_wait\u001b[0m\u001b[1;33m(\u001b[0m\u001b[1;36m10\u001b[0m\u001b[1;33m)\u001b[0m\u001b[1;33m\u001b[0m\u001b[1;33m\u001b[0m\u001b[0m\n",
      "\u001b[1;31mNameError\u001b[0m: name 'Service' is not defined"
     ]
    }
   ],
   "source": [
    "#main\n",
    "s = Service()\n",
    "navegador = webdriver.Firefox(service= s)\n",
    "navegador.get('https://suporte.sme.prefeitura.sp.gov.br/citsmart/pages/smartDecisions/smartDecisions.load#/acesso-rapido')\n",
    "navegador.implicitly_wait(10)\n",
    "time.sleep(3)\n",
    "logandoCitsmart()\n",
    "acessandoSistema()\n",
    "#abre os tickets\n",
    "navegador.find_element(By.XPATH,'/html/body/div[3]/div/div[2]/div[1]/div/div/div[2]/div/div[2]/div/div[2]/div/div[2]/adf-widget-content/div/ul/li[1]/a').click()\n",
    "#atualizacao automatica\n",
    "navegador.find_element(By.XPATH,'/html/body/div[3]/div/div[2]/div/div[1]/div/form/div/div[2]/div[1]/div[2]/button[1]/i').click()\n",
    "time.sleep(1)\n",
    "organizaTicket()\n",
    "time.sleep(1)\n",
    "#Atualiza a Pagina\n",
    "#navegador.find_element_by_xpath(\"// i[contains(text(),'refresh')]\").click()\n",
    "navegador.find_element(By.XPATH,\"//i[contains(text(),'refresh')]\").click()\n",
    "time.sleep(1)\n",
    "#Captura protocolos\n",
    "capturaProtocolo()\n",
    "time.sleep(10)\n",
    "#fecha mozila\n",
    "navegador.quit()\n"
   ]
  },
  {
   "cell_type": "markdown",
   "id": "6c4a8af9",
   "metadata": {},
   "source": [
    "# CitSmart - Finalizado"
   ]
  }
 ],
 "metadata": {
  "kernelspec": {
   "display_name": "Python 3 (ipykernel)",
   "language": "python",
   "name": "python3"
  },
  "language_info": {
   "codemirror_mode": {
    "name": "ipython",
    "version": 3
   },
   "file_extension": ".py",
   "mimetype": "text/x-python",
   "name": "python",
   "nbconvert_exporter": "python",
   "pygments_lexer": "ipython3",
   "version": "3.9.7"
  }
 },
 "nbformat": 4,
 "nbformat_minor": 5
}
