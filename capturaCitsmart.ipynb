{
 "cells": [
  {
   "cell_type": "markdown",
   "id": "767ad7d9",
   "metadata": {},
   "source": [
    "# Citsmart - Captura de protocolo"
   ]
  },
  {
   "cell_type": "markdown",
   "id": "c4ad8b9b",
   "metadata": {},
   "source": [
    "Este protocolo, tem como objetivo capiturar os protocolos que chegam no NOC."
   ]
  },
  {
   "cell_type": "code",
   "execution_count": 1,
   "id": "07ab3120",
   "metadata": {},
   "outputs": [],
   "source": [
    "from selenium import webdriver\n",
    "import time"
   ]
  },
  {
   "cell_type": "code",
   "execution_count": 2,
   "id": "ca7012b4",
   "metadata": {},
   "outputs": [],
   "source": [
    "#selecionar citsmart local e fazer o login\n",
    "def logandoCitsmart():\n",
    "    navegador.find_element_by_xpath('/html/body/div[3]/div[1]/div/div/form/div[2]/div/div/div/div/span').click() #abrindo opcoes\n",
    "    navegador.find_element_by_xpath('/html/body/div[3]/div[1]/div/div/form/div[2]/div/div/div/div/ul/li[1]/a/span').click() #selecionando \n",
    "    navegador.find_element_by_xpath('//*[@id=\"user_login\"]').send_keys('thiago.lima') #login\n",
    "    navegador.find_element_by_xpath('//*[@id=\"senha\"]').send_keys('123456') #senha\n",
    "    navegador.find_element_by_xpath('//*[@id=\"btnEntrar\"]').click() #logar\n",
    "    "
   ]
  },
  {
   "cell_type": "code",
   "execution_count": 3,
   "id": "07417083",
   "metadata": {},
   "outputs": [],
   "source": [
    "#abre a dasboard somente do NOC\n",
    "def organizaTicket():\n",
    "    navegador.find_element_by_xpath('//*[@id=\"open-advanced-search\"]').click()#abrindo opcoes\n",
    "    navegador.find_element_by_xpath('//*[@id=\"select-grupo-executor\"]').click()#abrindo grupo executor NOC\n",
    "    navegador.find_element_by_xpath('/html/body/div[3]/div/div[2]/div/div[1]/div/form/div/div[1]/div/div/div[2]/div/div/div[1]/div[7]/div/select/option[9]').click()#colocando NOC\n",
    "    navegador.find_element_by_xpath('//*[@id=\"select-filtro-situacao\"]').click()#abrindo situacao.\n",
    "    navegador.find_element_by_xpath('/html/body/div[3]/div/div[2]/div/div[1]/div/form/div/div[1]/div/div/div[2]/div/div/div[1]/div[5]/div/select/option[2]').click()#colocando 'em andamento'\n",
    "    navegador.find_element_by_xpath('//*[@id=\"open-advanced-search\"]').click()#fechando opcoes"
   ]
  },
  {
   "cell_type": "code",
   "execution_count": 4,
   "id": "ab43f2ee",
   "metadata": {},
   "outputs": [],
   "source": [
    "def acessandoSistema():\n",
    "    navegador.find_element_by_xpath('/html/body/div[3]/div/header/div/div/div[1]/div[3]/a/i').click()#abrindo opcoes\n",
    "    navegador.find_element_by_xpath('/html/body/div[3]/div/header/div/div/div[1]/div[3]/div/div/div[2]/div/ul/li[1]/a/span').click()#abrindo fila de atendimento"
   ]
  },
  {
   "cell_type": "code",
   "execution_count": 5,
   "id": "8d865ff9",
   "metadata": {},
   "outputs": [],
   "source": [
    "def capturaProtocolo():\n",
    "    #Seleciona checkbox\n",
    "    navegador.find_element_by_xpath('/html/body/div[3]/div/div[2]/div/div[1]/div/form/div/div[2]/div[2]/div/div/div[3]/div[1]/div[1]/span/i').click()\n",
    "    #delegar\n",
    "    navegador.find_element_by_xpath('/html/body/div[3]/div/div[2]/div/div[1]/div/form/div/div[2]/div[1]/div[2]/button[1]/i').click()\n",
    "    time.sleep(4)\n",
    "    #escrever nome\n",
    "    #navegador.find_element_by_xpath('//*[@id=\"userAutocomplete\"]').send_keys('thiago borges')\n",
    "    #selecionar pessoa\n",
    "    navegador.find_element_by_xpath('/html/body/div[1]/div/div/div[2]/form/div[1]/div/div/div/div/ul[1]/li/a').click()\n",
    "    #selecionar grupo\n",
    "    navegador.find_element_by_xpath('//*[@id=\"delegation-id-group\"]').click()\n",
    "    #selecionar noc\n",
    "    time.sleep()\n",
    "    navegador.find_element_by_xpath('/html/body/div[1]/div/div/div[2]/form/div[2]/div/div/select/option[7]').click()\n",
    "    #justificativa\n",
    "    navegador.find_element_by_xpath('//*[@id=\"delegation-justification\"]').send_keys('Protocolo capturado.')\n",
    "    time.sleep(2)\n",
    "    #gravar\n",
    "    navegador.find_element_by_xpath('/html/body/div[1]/div/div/div[3]/button[1]').click()\n",
    "    "
   ]
  },
  {
   "cell_type": "code",
   "execution_count": 6,
   "id": "76269228",
   "metadata": {
    "scrolled": false
   },
   "outputs": [
    {
     "name": "stderr",
     "output_type": "stream",
     "text": [
      "C:\\Users\\Thiago\\AppData\\Local\\Temp/ipykernel_20856/1268659702.py:3: DeprecationWarning: find_element_by_* commands are deprecated. Please use find_element() instead\n",
      "  navegador.find_element_by_xpath('/html/body/div[3]/div[1]/div/div/form/div[2]/div/div/div/div/span').click() #abrindo opcoes\n",
      "C:\\Users\\Thiago\\AppData\\Local\\Temp/ipykernel_20856/1268659702.py:4: DeprecationWarning: find_element_by_* commands are deprecated. Please use find_element() instead\n",
      "  navegador.find_element_by_xpath('/html/body/div[3]/div[1]/div/div/form/div[2]/div/div/div/div/ul/li[1]/a/span').click() #selecionando\n",
      "C:\\Users\\Thiago\\AppData\\Local\\Temp/ipykernel_20856/1268659702.py:5: DeprecationWarning: find_element_by_* commands are deprecated. Please use find_element() instead\n",
      "  navegador.find_element_by_xpath('//*[@id=\"user_login\"]').send_keys('thiago.lima') #login\n",
      "C:\\Users\\Thiago\\AppData\\Local\\Temp/ipykernel_20856/1268659702.py:6: DeprecationWarning: find_element_by_* commands are deprecated. Please use find_element() instead\n",
      "  navegador.find_element_by_xpath('//*[@id=\"senha\"]').send_keys('123456') #senha\n",
      "C:\\Users\\Thiago\\AppData\\Local\\Temp/ipykernel_20856/1268659702.py:7: DeprecationWarning: find_element_by_* commands are deprecated. Please use find_element() instead\n",
      "  navegador.find_element_by_xpath('//*[@id=\"btnEntrar\"]').click() #logar\n",
      "C:\\Users\\Thiago\\AppData\\Local\\Temp/ipykernel_20856/745876266.py:2: DeprecationWarning: find_element_by_* commands are deprecated. Please use find_element() instead\n",
      "  navegador.find_element_by_xpath('/html/body/div[3]/div/header/div/div/div[1]/div[3]/a/i').click()#abrindo opcoes\n",
      "C:\\Users\\Thiago\\AppData\\Local\\Temp/ipykernel_20856/764764494.py:9: DeprecationWarning: find_element_by_* commands are deprecated. Please use find_element() instead\n",
      "  navegador.find_element_by_xpath('/html/body/div[3]/div/div[2]/div[1]/div/div/div[2]/div/div[2]/div/div[2]/div/div[2]/adf-widget-content/div/ul/li[1]/a').click()\n",
      "C:\\Users\\Thiago\\AppData\\Local\\Temp/ipykernel_20856/764764494.py:11: DeprecationWarning: find_element_by_* commands are deprecated. Please use find_element() instead\n",
      "  navegador.find_element_by_xpath('/html/body/div[3]/div/div[2]/div/div[1]/div/form/div/div[2]/div[1]/div[2]/button[1]/i').click()\n",
      "C:\\Users\\Thiago\\AppData\\Local\\Temp/ipykernel_20856/1851289346.py:8: DeprecationWarning: find_element_by_* commands are deprecated. Please use find_element() instead\n",
      "  navegador.find_element_by_xpath('//*[@id=\"open-advanced-search\"]').click()#fechando opcoes\n"
     ]
    }
   ],
   "source": [
    "#main\n",
    "navegador = webdriver.Firefox()\n",
    "navegador.get('https://suporte.sme.prefeitura.sp.gov.br/citsmart/pages/smartDecisions/smartDecisions.load#/acesso-rapido')\n",
    "navegador.implicitly_wait(10)\n",
    "time.sleep(3)\n",
    "logandoCitsmart()\n",
    "acessandoSistema()\n",
    "#abre os tickets\n",
    "navegador.find_element_by_xpath('/html/body/div[3]/div/div[2]/div[1]/div/div/div[2]/div/div[2]/div/div[2]/div/div[2]/adf-widget-content/div/ul/li[1]/a').click()\n",
    "#atualizacao automatica\n",
    "navegador.find_element_by_xpath('/html/body/div[3]/div/div[2]/div/div[1]/div/form/div/div[2]/div[1]/div[2]/button[1]/i').click()\n",
    "time.sleep(1)\n",
    "organizaTicket()\n"
   ]
  },
  {
   "cell_type": "code",
   "execution_count": null,
   "id": "b7c4bfff",
   "metadata": {},
   "outputs": [],
   "source": [
    "#Atualiza a Pagina\n",
    "navegador.find_element_by_xpath('/html/body/div[3]/div/div[2]/div/div[1]/div/form/div/div[2]/div[1]/div[2]/button[2]/i').click()\n"
   ]
  },
  {
   "cell_type": "code",
   "execution_count": 7,
   "id": "13d5fa89",
   "metadata": {},
   "outputs": [
    {
     "name": "stderr",
     "output_type": "stream",
     "text": [
      "C:\\Users\\Thiago\\AppData\\Local\\Temp/ipykernel_20856/3181733512.py:3: DeprecationWarning: find_element_by_* commands are deprecated. Please use find_element() instead\n",
      "  navegador.find_element_by_xpath('/html/body/div[3]/div/div[2]/div/div[1]/div/form/div/div[2]/div[2]/div/div/div[3]/div[1]/div[1]/span/i').click()\n",
      "C:\\Users\\Thiago\\AppData\\Local\\Temp/ipykernel_20856/3181733512.py:5: DeprecationWarning: find_element_by_* commands are deprecated. Please use find_element() instead\n",
      "  navegador.find_element_by_xpath('/html/body/div[3]/div/div[2]/div/div[1]/div/form/div/div[2]/div[1]/div[2]/button[1]/i').click()\n",
      "C:\\Users\\Thiago\\AppData\\Local\\Temp/ipykernel_20856/3181733512.py:10: DeprecationWarning: find_element_by_* commands are deprecated. Please use find_element() instead\n",
      "  navegador.find_element_by_xpath('/html/body/div[1]/div/div/div[2]/form/div[1]/div/div/div/div/ul[1]/li/a').click()\n",
      "C:\\Users\\Thiago\\AppData\\Local\\Temp/ipykernel_20856/3181733512.py:12: DeprecationWarning: find_element_by_* commands are deprecated. Please use find_element() instead\n",
      "  navegador.find_element_by_xpath('//*[@id=\"delegation-id-group\"]').click()\n",
      "C:\\Users\\Thiago\\AppData\\Local\\Temp/ipykernel_20856/3181733512.py:15: DeprecationWarning: find_element_by_* commands are deprecated. Please use find_element() instead\n",
      "  navegador.find_element_by_xpath('/html/body/div[1]/div/div/div[2]/form/div[2]/div/div/select/option[7]').click()\n",
      "C:\\Users\\Thiago\\AppData\\Local\\Temp/ipykernel_20856/3181733512.py:17: DeprecationWarning: find_element_by_* commands are deprecated. Please use find_element() instead\n",
      "  navegador.find_element_by_xpath('//*[@id=\"delegation-justification\"]').send_keys('Protocolo capturado.')\n",
      "C:\\Users\\Thiago\\AppData\\Local\\Temp/ipykernel_20856/3181733512.py:20: DeprecationWarning: find_element_by_* commands are deprecated. Please use find_element() instead\n",
      "  navegador.find_element_by_xpath('/html/body/div[1]/div/div/div[3]/button[1]').click()\n"
     ]
    }
   ],
   "source": [
    "#Captura protocolos\n",
    "capturaProtocolo()"
   ]
  },
  {
   "cell_type": "code",
   "execution_count": null,
   "id": "b7f6c235",
   "metadata": {},
   "outputs": [],
   "source": []
  }
 ],
 "metadata": {
  "kernelspec": {
   "display_name": "Python 3 (ipykernel)",
   "language": "python",
   "name": "python3"
  },
  "language_info": {
   "codemirror_mode": {
    "name": "ipython",
    "version": 3
   },
   "file_extension": ".py",
   "mimetype": "text/x-python",
   "name": "python",
   "nbconvert_exporter": "python",
   "pygments_lexer": "ipython3",
   "version": "3.9.7"
  }
 },
 "nbformat": 4,
 "nbformat_minor": 5
}
