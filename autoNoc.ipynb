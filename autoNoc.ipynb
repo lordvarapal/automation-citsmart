{
 "cells": [
  {
   "cell_type": "markdown",
   "id": "f533aa8b",
   "metadata": {},
   "source": [
    "# Automacao para finalizar processos do NOC/ Central IT"
   ]
  },
  {
   "cell_type": "markdown",
   "id": "f313b216",
   "metadata": {},
   "source": [
    "Esta automação tem por objetivo acelerar o processo de finalização de protocolo do NOC. Ele utiliza o Clavier+ com a função de \"1\" equivalendo ao texto de finalização do NOC e o combo \"ctrl +1\"."
   ]
  },
  {
   "cell_type": "code",
   "execution_count": 1,
   "id": "f121c603",
   "metadata": {},
   "outputs": [],
   "source": [
    "import pyautogui\n",
    "import time"
   ]
  },
  {
   "cell_type": "code",
   "execution_count": 2,
   "id": "d62291c9",
   "metadata": {},
   "outputs": [],
   "source": [
    "#Aperta END no teclado, clica em resolvido, aperta END no teclado, seleciona o campo de digitar Solucao Resposta\n",
    "def finalizaProtocolo():\n",
    "    pyautogui.PAUSE = 0.7\n",
    "    pyautogui.press('end')\n",
    "    pyautogui.click(x=1405, y=900) #resolvido\n",
    "    pyautogui.press('end')\n",
    "    pyautogui.click(x=1390, y=770) #digite no campo\n",
    "    time.sleep(0.5)\n",
    "    pyautogui.hotkey('ctrlleft','1') #escreva a mensagem pelo Clavier+:\n",
    "    #\"Informamos que o link de dados da unidade já está com a conexão restabelecida. Evidência anexa.\" \n",
    "\n",
    "    # Escreve a mensagem de finalizado com sucesso, gravar e Enviar, Sim\n",
    "    pyautogui.click(x=1800, y=1000) #gravar e enviar\n",
    "    pyautogui.click(x=1160, y=255) #confirmar\n",
    "    return"
   ]
  },
  {
   "cell_type": "code",
   "execution_count": 3,
   "id": "0f0190ba",
   "metadata": {},
   "outputs": [],
   "source": [
    "#Anexando arquivo: clcica no clip, clica pra fazer o upload, seleciona, enter\n",
    "def anexaImagem():\n",
    "    pyautogui.PAUSE = 0.8\n",
    "    pyautogui.click(x=1740, y=170) #clique no clip\n",
    "    pyautogui.click(x=1520, y=270) #clique no campo\n",
    "    time.sleep(0.8)\n",
    "    pyautogui.click(x=226, y=186) #selecione o arquivo\n",
    "    pyautogui.press('enter')\n",
    "    time.sleep(1)\n",
    "    return"
   ]
  },
  {
   "cell_type": "code",
   "execution_count": 4,
   "id": "5ed78552",
   "metadata": {},
   "outputs": [],
   "source": [
    " #Reativando protocolo: clica nos 3 pontos, reativar, confirmar\n",
    "def reativarProtocolo():\n",
    "    pyautogui.PAUSE = 0.8\n",
    "    pyautogui.click(x=1860, y=175) #3 pontos\n",
    "    pyautogui.click(x=1860, y=219) #reativar\n",
    "    pyautogui.click(x=1116, y=238) #confirmar\n",
    "    time.sleep(2)\n",
    "    return"
   ]
  },
  {
   "cell_type": "code",
   "execution_count": 5,
   "id": "aca895a0",
   "metadata": {},
   "outputs": [],
   "source": [
    "#A ferramenta de captura estando aberta, clicar em modo e selecionar a funcao \"recorte de tela cheia\"\n",
    "def recorteTela():\n",
    "    pyautogui.PAUSE = 0.7\n",
    "    pyautogui.click(x=45, y=70) #clicar em novo\n",
    "    pyautogui.click(x=370, y=223) #clicar em modo\n",
    "    pyautogui.click(x=380, y=320) #captura de janela\n",
    "    pyautogui.click(x=275, y=70) #salvar\n",
    "    pyautogui.click(x=798, y=556) #salvar novamente\n",
    "    pyautogui.click(x=1000, y=528) #aceitar\n",
    "    pyautogui.click(x=1799, y=25) #minimizar\n",
    "    return\n"
   ]
  },
  {
   "cell_type": "code",
   "execution_count": 6,
   "id": "c8bd0f1c",
   "metadata": {},
   "outputs": [],
   "source": [
    "#Seleciona a base de conhecimento\n",
    "def colocarBase():\n",
    "    pyautogui.PAUSE = 0.7\n",
    "    pyautogui.press('pageup')\n",
    "    pyautogui.click(x=1873, y=224) #clicar na seta\n",
    "    pyautogui.click(x=1717, y=342) #Conhecimento\n",
    "    time.sleep(1)\n",
    "    pyautogui.click(x=657, y=200) #pesquisa de base\n",
    "    pyautogui.click(x=613, y=283) #titulo\n",
    "    pyautogui.write('intern') #texto\n",
    "    pyautogui.press('enter')\n",
    "    time.sleep(0.5)\n",
    "    pyautogui.click(x=847, y=540) #seleciona base\n",
    "    pyautogui.press('esc') #esc\n",
    "    time.sleep(1)\n",
    "    pyautogui.click(x=1873, y=224) #voltar seta\n",
    "    return"
   ]
  },
  {
   "cell_type": "code",
   "execution_count": 7,
   "id": "b45e54a3",
   "metadata": {},
   "outputs": [],
   "source": [
    "#Seleciona Cargo\n",
    "def colocaCargo():\n",
    "    pyautogui.PAUSE = 0.7\n",
    "    pyautogui.press('pageup')\n",
    "    pyautogui.click(x=1114, y=497) #clica para selecionar o cargo\n",
    "    pyautogui.click(x=1082, y=668) #seleciona\n",
    "    return"
   ]
  },
  {
   "cell_type": "code",
   "execution_count": 9,
   "id": "6fa98804",
   "metadata": {},
   "outputs": [],
   "source": [
    "#main\n",
    "\n",
    "pyautogui.alert(\"Protocolo iniciado\")\n",
    "for i in range(8):\n",
    "    recorteTela()\n",
    "    #clica em voltar, aguarda alguns instantes\n",
    "    pyautogui.click(x=25, y=50) #voltar\n",
    "    pyautogui.alert(\"Seguir em frente...\")\n",
    "    reativarProtocolo()\n",
    "    time.sleep(0.7)\n",
    "    colocarBase()\n",
    "    texto = pyautogui.confirm('Coloca Cargo?',buttons=['OK', 'Cancel'])\n",
    "    if texto == 'OK':\n",
    "        colocaCargo()\n",
    "    anexaImagem()\n",
    "    finalizaProtocolo()\n",
    "    #Aguarda alguns segundos, fecha Aba com comando Ctrl+\n",
    "    pyautogui.alert(\"Finalizado!\")\n",
    "    pyautogui.hotkey('ctrl','w')\n",
    "    pyautogui.alert(\"Proximo Protocolo!\")\n",
    "    pyautogui.click(x=855, y=1050) #abrindo ferramenta de captura de imagem\n",
    "pyautogui.alert(\"automação realizada com sucesso. Aperte ok para fechar ABA!\")\n",
    "pyautogui.hotkey('ctrl','w')"
   ]
  },
  {
   "cell_type": "code",
   "execution_count": 9,
   "id": "76e92881",
   "metadata": {
    "scrolled": false
   },
   "outputs": [
    {
     "data": {
      "text/plain": [
       "Point(x=855, y=1050)"
      ]
     },
     "execution_count": 9,
     "metadata": {},
     "output_type": "execute_result"
    }
   ],
   "source": [
    "time.sleep(4)\n",
    "pyautogui.position()\n"
   ]
  }
 ],
 "metadata": {
  "kernelspec": {
   "display_name": "Python 3 (ipykernel)",
   "language": "python",
   "name": "python3"
  },
  "language_info": {
   "codemirror_mode": {
    "name": "ipython",
    "version": 3
   },
   "file_extension": ".py",
   "mimetype": "text/x-python",
   "name": "python",
   "nbconvert_exporter": "python",
   "pygments_lexer": "ipython3",
   "version": "3.9.7"
  }
 },
 "nbformat": 4,
 "nbformat_minor": 5
}
