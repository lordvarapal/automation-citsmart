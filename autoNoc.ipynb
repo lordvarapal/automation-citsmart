{
 "cells": [
  {
   "cell_type": "markdown",
   "id": "82156dd3",
   "metadata": {},
   "source": [
    "# Automacao para finalizar processos do NOC/ Central IT\n",
    "\n",
    "### Esta automação tem por objetivo acelerar o processo de finalização de protocolo do NOC. Ele utiliza o Clavier+ com a função de \"1\" equivalendo ao texto de finalização do NOC e o combo \"ctrl +1\"."
   ]
  },
  {
   "cell_type": "code",
   "execution_count": 1,
   "id": "f121c603",
   "metadata": {},
   "outputs": [],
   "source": [
    "import pyautogui\n",
    "import time"
   ]
  },
  {
   "cell_type": "code",
   "execution_count": 2,
   "id": "5ed78552",
   "metadata": {},
   "outputs": [],
   "source": [
    " #Reativando protocolo: clica nos 3 pontos, reativar, confirmar\n",
    "def reativarProtocolo():\n",
    "    #const = 20\n",
    "    const = 0\n",
    "    pyautogui.PAUSE = 0.8\n",
    "    pyautogui.click(1885,190+const) #3 pontos\n",
    "    pyautogui.click(1800,240+const) #com barra #reativar\n",
    "    pyautogui.click(1130,240) #confirmar\n",
    "    time.sleep(2)\n",
    "    return"
   ]
  },
  {
   "cell_type": "code",
   "execution_count": 3,
   "id": "b45e54a3",
   "metadata": {},
   "outputs": [],
   "source": [
    "#Seleciona Cargo\n",
    "def colocaCargo():\n",
    "    cargo = pyautogui.locateOnScreen('cargo.png',grayscale='true')\n",
    "    if cargo != None:\n",
    "        pyautogui.PAUSE = 0.7\n",
    "        pyautogui.press('home')\n",
    "        pyautogui.click(cargo) #clica para selecionar o cargo\n",
    "        pyautogui.click(1082, 668) #seleciona\n",
    "        return\n",
    "    return"
   ]
  },
  {
   "cell_type": "code",
   "execution_count": 4,
   "id": "ec06f1a1",
   "metadata": {},
   "outputs": [],
   "source": [
    "def encontraPosicao(str):\n",
    "    time.sleep(2)\n",
    "    centro = pyautogui.locateOnScreen(str)\n",
    "    pyautogui.moveTo(centro)\n",
    "    pyautogui.click(clicks=2)\n",
    "    return centro"
   ]
  },
  {
   "cell_type": "code",
   "execution_count": 5,
   "id": "f270dde6",
   "metadata": {},
   "outputs": [],
   "source": [
    "def printTela():\n",
    "    time.sleep(1)\n",
    "    img = pyautogui.screenshot('noc.png')\n",
    "    "
   ]
  },
  {
   "cell_type": "code",
   "execution_count": 6,
   "id": "1944fe86",
   "metadata": {},
   "outputs": [],
   "source": [
    "#Seleciona a base de conhecimento\n",
    "def colocarBase():\n",
    "    #const = 20\n",
    "    const = 0\n",
    "    pyautogui.PAUSE = 0.7\n",
    "    pyautogui.press('pageup')\n",
    "    \n",
    "    \n",
    "    pyautogui.click(1886, 240+const) #clicar na seta\n",
    "    pyautogui.click(1747, 353+const) #Conhecimento\n",
    "    time.sleep(1)\n",
    "    \n",
    "    pyautogui.click(612, 212) #pesquisa de base\n",
    "    pyautogui.click(639, 303) #titulo\n",
    "    pyautogui.write('inter') #texto\n",
    "    pyautogui.press('enter')\n",
    "    time.sleep(0.5)\n",
    "    pyautogui.click(936, 600) #seleciona base\n",
    "    pyautogui.press('esc') #esc\n",
    "    time.sleep(1)\n",
    "    pyautogui.click(1886, 240+const) #voltar seta\n",
    "    return"
   ]
  },
  {
   "cell_type": "code",
   "execution_count": 7,
   "id": "0f0190ba",
   "metadata": {},
   "outputs": [],
   "source": [
    "#Anexando arquivo: clcica no clip, clica pra fazer o upload, seleciona, enter\n",
    "def anexaImagem():\n",
    "    #const = 20\n",
    "    const = 0\n",
    "    pyautogui.PAUSE = 0.8\n",
    "    pyautogui.click(1757, 185+const) #clique no clip\n",
    "    pyautogui.click(1710,240+const) #clique no campo\n",
    "    pyautogui.click(230, 230+const) #clique na imagem\n",
    "    pyautogui.press('enter')\n",
    "    return"
   ]
  },
  {
   "cell_type": "code",
   "execution_count": 8,
   "id": "d62291c9",
   "metadata": {},
   "outputs": [],
   "source": [
    "#Aperta END no teclado, clica em resolvido, aperta END no teclado, seleciona o campo de digitar Solucao Resposta\n",
    "def finalizaProtocolo():\n",
    "    #const = 20\n",
    "    const = 0\n",
    "    pyautogui.PAUSE = 0.7\n",
    "    pyautogui.press('end')\n",
    "    pyautogui.click(1400,900) #resolvido\n",
    "    pyautogui.press('end')\n",
    "    pyautogui.click(1390,750) #digite no campo\n",
    "    time.sleep(0.5)\n",
    "    pyautogui.hotkey('ctrlleft','1') #escreva a mensagem pelo Clavier+:\n",
    "    #\"Informamos que o link de dados da unidade já está com a conexão restabelecida. Evidência anexa.\" \n",
    "    # pyautogui.alert(\"Gravando e enviando...\")\n",
    "    # Escreve a mensagem de finalizado com sucesso, gravar e Enviar, Sim\n",
    "    pyautogui.click(1800, 1000) #gravar e enviar\n",
    "    pyautogui.click(1160, 260) #confirmar\n",
    "#    pyautogui.alert(\"Gravado e enviado com sucesso!\")\n",
    "    return"
   ]
  },
  {
   "cell_type": "code",
   "execution_count": 14,
   "id": "6fa98804",
   "metadata": {},
   "outputs": [
    {
     "name": "stdout",
     "output_type": "stream",
     "text": [
      "0\n",
      "1\n",
      "2\n",
      "3\n",
      "4\n"
     ]
    },
    {
     "data": {
      "text/plain": [
       "'OK'"
      ]
     },
     "execution_count": 14,
     "metadata": {},
     "output_type": "execute_result"
    }
   ],
   "source": [
    "#main\n",
    "\n",
    "pyautogui.alert(\"Protocolo iniciado\")\n",
    "for i in range(5):\n",
    "    print(i)\n",
    "    printTela()\n",
    "    #clica em voltar, aguarda alguns instantes\n",
    "    pyautogui.click(25, 60) #voltar\n",
    "    time.sleep(7)\n",
    "    reativarProtocolo()\n",
    "    time.sleep(1.3)\n",
    "    anexaImagem()\n",
    "    colocarBase()    \n",
    "    finalizaProtocolo()\n",
    "    #Aguarda alguns segundos, fecha Aba com comando Ctrl+\n",
    "    time.sleep(6.5)\n",
    "    pyautogui.hotkey('ctrl','w')\n",
    "    #pyautogui.click(x=860, y=1053) #abrindo ferramenta de captura de imagem\n",
    "pyautogui.alert(\"automação realizada com sucesso. Aperte ok para fechar ABA!\")"
   ]
  },
  {
   "cell_type": "markdown",
   "id": "afdb3cca",
   "metadata": {},
   "source": [
    "# Automacao para link do zabbix no NOC/ Central IT\n",
    "\n",
    "### Depois de copiar o link, colocar no Citsmart. Caso resolvido, ficara em aberto o link."
   ]
  },
  {
   "cell_type": "code",
   "execution_count": null,
   "id": "975af5de",
   "metadata": {},
   "outputs": [],
   "source": [
    "import pyautogui\n",
    "import time\n",
    "\n",
    "\n",
    "#main\n",
    "pyautogui.alert(\"Protocolo iniciado\")\n",
    "pyautogui.PAUSE =1\n",
    "for i in range(1):\n",
    "    pyautogui.alert(\"Copie o Link do zabbix para Continuar e ponha na aba.\")\n",
    "    pyautogui.press('pagedown')\n",
    "    locate = pyautogui.locateOnScreen(\"comentar.png\", grayscale='true')\n",
    "    pyautogui.click(locate)\n",
    "    pyautogui.press('end')\n",
    "    locate = pyautogui.locateOnScreen(\"escreva.png\", grayscale='true')\n",
    "    pyautogui.press('end')\n",
    "    pyautogui.click(locate)\n",
    "    pyautogui.press(\"2\")\n",
    "    pyautogui.hotkey(\"ctrl\",\"a\")\n",
    "    pyautogui.alert(\"Se texto selecionado, continuar.\")\n",
    "    locate = pyautogui.locateOnScreen(\"link.png\", grayscale='true')\n",
    "    pyautogui.click(locate)\n",
    "    pyautogui.hotkey(\"ctrl\",\"v\")\n",
    "    opcao = pyautogui.confirm(\"Link do zabbix ON?\", buttons=['OK', 'Cancel'])\n",
    "    pyautogui.press(\"enter\")     \n",
    "    locate = pyautogui.locateOnScreen(\"adicionar.PNG\", grayscale='true')\n",
    "    pyautogui.click(locate)\n",
    "    if opcao == \"ok\" :\n",
    "        pyautogui.alert(\"Abra o Link\")\n",
    "    else :\n",
    "        pyautogui.hotkey('ctrl','w')\n",
    "        pyautogui.alert(\"Aba fechada. Proxima\")\n",
    "pyautogui.alert(\"Protocolo Finalizado\")\n",
    "    \n",
    "    \n",
    "    \n",
    "    \n"
   ]
  },
  {
   "cell_type": "markdown",
   "id": "19188e77",
   "metadata": {},
   "source": [
    "# NOC - Funções descontinuadas\n",
    "### Estas funções, foram descontinuadas, pois estão com ferramentas atualizadas.\n",
    "### Pode ser reaprovitadas futuramente."
   ]
  },
  {
   "cell_type": "code",
   "execution_count": null,
   "id": "aca895a0",
   "metadata": {},
   "outputs": [],
   "source": [
    "#A ferramenta de captura estando aberta, clicar em modo e selecionar a funcao \"recorte de tela cheia\"\n",
    "#Esta ferramenta está descontinuada.\n",
    "def recorteTela():\n",
    "  \n",
    "    pyautogui.PAUSE = 2\n",
    "    pyautogui.click(x=45, y=70) #clicar em novo\n",
    "    pyautogui.moveTo(x=50, y=80) #movendo o mouse\n",
    "    pyautogui.PAUSE = 0.7\n",
    "    pyautogui.click(clicks=2, interval=0.25) #clicar na tela\n",
    "    #pyautogui.click(x=45, y=70) #clicar na janela (descontinuado)\n",
    "    pyautogui.click(x=1070, y=70) #salvar icone\n",
    "    pyautogui.click(x=810, y=520) #salvar novamente\n",
    "    pyautogui.click(x=1010, y=525) #aceitar\n",
    "    pyautogui.click(x=1799, y=25) #minimizar\n",
    "    return\n"
   ]
  },
  {
   "cell_type": "markdown",
   "id": "93ca41e7",
   "metadata": {},
   "source": [
    "# TESTES\n",
    "\n",
    "### Testes de Pyautogui e localização de pixel."
   ]
  },
  {
   "cell_type": "code",
   "execution_count": 15,
   "id": "2b0cc932",
   "metadata": {},
   "outputs": [],
   "source": [
    "printTela()"
   ]
  },
  {
   "cell_type": "code",
   "execution_count": null,
   "id": "d6c7efef",
   "metadata": {},
   "outputs": [],
   "source": [
    "import pyautogui\n",
    "\n",
    "pyautogui.PAUSE = 2\n",
    "const = 20\n",
    "\n",
    "#pyautogui.moveTo(1880,190) #sem barra\n",
    "#pyautogui.moveTo(1880,210) #com barra\n",
    "\n",
    "pyautogui.moveTo(1130,240) #com barra"
   ]
  },
  {
   "cell_type": "code",
   "execution_count": null,
   "id": "ed8fd6a2",
   "metadata": {},
   "outputs": [],
   "source": [
    "pyautogui.PAUSE = 1\n",
    "pyautogui.alert('Começou...')\n",
    "pyautogui.click(2460,56)\n",
    "pyautogui.hotkey('ctrl','a')\n",
    "pyautogui.press('del')\n",
    "pyautogui.write('youtube.com')\n",
    "pyautogui.press('enter')\n",
    "pyautogui.alert('terminou...')"
   ]
  },
  {
   "cell_type": "code",
   "execution_count": null,
   "id": "76e92881",
   "metadata": {
    "scrolled": false
   },
   "outputs": [],
   "source": [
    "for i in range (1): \n",
    "    time.sleep(5)\n",
    "    print (pyautogui.position())"
   ]
  },
  {
   "cell_type": "code",
   "execution_count": null,
   "id": "5bfac744",
   "metadata": {},
   "outputs": [],
   "source": [
    "import pyautogui\n",
    "import time\n",
    "\n",
    "pyautogui.alert(\"teste inicio\")\n",
    "pyautogui.PAUSE = 0.5\n",
    "teste = pyautogui.locateOnScreen(\"teste.png\", grayscale='true')\n",
    "if teste != None:\n",
    "    print (type(teste))\n",
    "    print (teste)\n",
    "else:\n",
    "    print('Nada encontrtado.')\n",
    "pyautogui.moveTo(teste)\n",
    "pyautogui.alert(\"teste fim\")"
   ]
  },
  {
   "cell_type": "code",
   "execution_count": null,
   "id": "947549f1",
   "metadata": {},
   "outputs": [],
   "source": []
  }
 ],
 "metadata": {
  "kernelspec": {
   "display_name": "Python 3 (ipykernel)",
   "language": "python",
   "name": "python3"
  },
  "language_info": {
   "codemirror_mode": {
    "name": "ipython",
    "version": 3
   },
   "file_extension": ".py",
   "mimetype": "text/x-python",
   "name": "python",
   "nbconvert_exporter": "python",
   "pygments_lexer": "ipython3",
   "version": "3.9.12"
  }
 },
 "nbformat": 4,
 "nbformat_minor": 5
}
