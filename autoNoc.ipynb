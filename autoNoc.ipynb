{
 "cells": [
  {
   "cell_type": "markdown",
   "id": "f533aa8b",
   "metadata": {},
   "source": [
    "# Automacao para finalizar processos do NOC/ Central IT\n",
    "\n",
    "### Esta automação tem por objetivo acelerar o processo de finalização de protocolo do NOC. Ele utiliza o Clavier+ com a função de \"1\" equivalendo ao texto de finalização do NOC e o combo \"ctrl +1\"."
   ]
  },
  {
   "cell_type": "code",
   "execution_count": 1,
   "id": "f121c603",
   "metadata": {},
   "outputs": [],
   "source": [
    "import pyautogui\n",
    "import time"
   ]
  },
  {
   "cell_type": "code",
   "execution_count": 2,
   "id": "d62291c9",
   "metadata": {},
   "outputs": [],
   "source": [
    "#Aperta END no teclado, clica em resolvido, aperta END no teclado, seleciona o campo de digitar Solucao Resposta\n",
    "def finalizaProtocolo():\n",
    "    pyautogui.PAUSE = 0.7\n",
    "    pyautogui.press('end')\n",
    "    pyautogui.click(x=1405, y=900) #resolvido\n",
    "    pyautogui.press('end')\n",
    "    pyautogui.click(x=1390, y=770) #digite no campo\n",
    "    time.sleep(0.5)\n",
    "    pyautogui.hotkey('ctrlleft','1') #escreva a mensagem pelo Clavier+:\n",
    "    #\"Informamos que o link de dados da unidade já está com a conexão restabelecida. Evidência anexa.\" \n",
    "    # pyautogui.alert(\"Gravando e enviando...\")\n",
    "    # Escreve a mensagem de finalizado com sucesso, gravar e Enviar, Sim\n",
    "    pyautogui.click(x=1800, y=1000) #gravar e enviar\n",
    "    pyautogui.click(x=1160, y=255) #confirmar\n",
    "    pyautogui.alert(\"Gravado e enviado com sucesso!\")\n",
    "    return"
   ]
  },
  {
   "cell_type": "code",
   "execution_count": 3,
   "id": "5ed78552",
   "metadata": {},
   "outputs": [],
   "source": [
    " #Reativando protocolo: clica nos 3 pontos, reativar, confirmar\n",
    "def reativarProtocolo():\n",
    "    pyautogui.PAUSE = 0.8\n",
    "    pyautogui.click(x=1860, y=175) #3 pontos\n",
    "    pyautogui.click(x=1860, y=219) #reativar\n",
    "    pyautogui.click(x=1116, y=238) #confirmar\n",
    "    time.sleep(2)\n",
    "    return"
   ]
  },
  {
   "cell_type": "code",
   "execution_count": 4,
   "id": "b45e54a3",
   "metadata": {},
   "outputs": [],
   "source": [
    "#Seleciona Cargo\n",
    "def colocaCargo():\n",
    "    cargo = pyautogui.locateOnScreen('cargo.png',grayscale='true')\n",
    "    if cargo != None:\n",
    "        pyautogui.PAUSE = 0.7\n",
    "        pyautogui.press('home')\n",
    "        pyautogui.click(cargo) #clica para selecionar o cargo\n",
    "        pyautogui.click(x=1082, y=668) #seleciona\n",
    "        return\n",
    "    return"
   ]
  },
  {
   "cell_type": "code",
   "execution_count": 5,
   "id": "1944fe86",
   "metadata": {},
   "outputs": [],
   "source": [
    "#Seleciona a base de conhecimento\n",
    "def colocarBase():\n",
    "    pyautogui.PAUSE = 0.7\n",
    "    pyautogui.press('pageup')\n",
    "    pyautogui.click(x=1873, y=242) #clicar na seta\n",
    "    pyautogui.click(x=1712, y=353) #Conhecimento\n",
    "    time.sleep(1)\n",
    "    pyautogui.click(x=675, y=212) #pesquisa de base\n",
    "    pyautogui.click(x=664, y=303) #titulo\n",
    "    pyautogui.write('intern') #texto\n",
    "    pyautogui.press('enter')\n",
    "    time.sleep(0.5)\n",
    "    pyautogui.click(x=801, y=590) #seleciona base\n",
    "    pyautogui.press('esc') #esc\n",
    "    time.sleep(1)\n",
    "    pyautogui.click(x=1873, y=242) #voltar seta\n",
    "    return"
   ]
  },
  {
   "cell_type": "code",
   "execution_count": 6,
   "id": "aca895a0",
   "metadata": {},
   "outputs": [],
   "source": [
    "#A ferramenta de captura estando aberta, clicar em modo e selecionar a funcao \"recorte de tela cheia\"\n",
    "def recorteTela():\n",
    "    pyautogui.PAUSE = 0.7\n",
    "    pyautogui.click(x=45, y=70) #clicar em novo\n",
    "    pyautogui.click(x=45, y=70) #clicar na janela\n",
    "    pyautogui.click(x=275, y=70) #salvar\n",
    "    pyautogui.click(x=798, y=556) #salvar novamente\n",
    "    pyautogui.click(x=1000, y=528) #aceitar\n",
    "    pyautogui.click(x=1799, y=25) #minimizar\n",
    "    return\n"
   ]
  },
  {
   "cell_type": "code",
   "execution_count": 7,
   "id": "0f0190ba",
   "metadata": {},
   "outputs": [],
   "source": [
    "#Anexando arquivo: clcica no clip, clica pra fazer o upload, seleciona, enter\n",
    "def anexaImagem():\n",
    "    pyautogui.PAUSE = 0.8\n",
    "    pyautogui.click(x=1734, y=185) #clique no clip\n",
    "    pyautogui.click(x=1738, y=239) #clique no campo\n",
    "    time.sleep(0.8)\n",
    "    pyautogui.click(x=408, y=247) #selecione o arquivo\n",
    "    pyautogui.press('enter')\n",
    "    time.sleep(1)\n",
    "    return"
   ]
  },
  {
   "cell_type": "code",
   "execution_count": 8,
   "id": "6fa98804",
   "metadata": {},
   "outputs": [
    {
     "name": "stdout",
     "output_type": "stream",
     "text": [
      "0\n",
      "1\n",
      "2\n",
      "3\n"
     ]
    }
   ],
   "source": [
    "#main\n",
    "\n",
    "pyautogui.alert(\"Protocolo iniciado\")\n",
    "for i in range(4):\n",
    "    print(i)\n",
    "    recorteTela()\n",
    "    #clica em voltar, aguarda alguns instantes\n",
    "    pyautogui.click(x=25, y=50) #voltar\n",
    "    #pyautogui.alert(\"Seguir em frente...\")\n",
    "    time.sleep(8)\n",
    "    reativarProtocolo()\n",
    "    time.sleep(0.7)\n",
    "    colocarBase()\n",
    "    #colocaCargo()\n",
    "    anexaImagem()\n",
    "    finalizaProtocolo()\n",
    "    #Aguarda alguns segundos, fecha Aba com comando Ctrl+\n",
    "    pyautogui.hotkey('ctrl','w')\n",
    "    pyautogui.alert(\"Proximo Protocolo!\")\n",
    "    pyautogui.click(x=860, y=1053) #abrindo ferramenta de captura de imagem\n",
    "pyautogui.alert(\"automação realizada com sucesso. Aperte ok para fechar ABA!\")\n",
    "pyautogui.hotkey('ctrl','w')"
   ]
  },
  {
   "cell_type": "markdown",
   "id": "afdb3cca",
   "metadata": {},
   "source": [
    "# Automacao para link do zabbix no NOC/ Central IT\n",
    "\n",
    "### Depois de copiar o link, colocar no Citsmart. Caso resolvido, ficara em aberto o link."
   ]
  },
  {
   "cell_type": "code",
   "execution_count": null,
   "id": "975af5de",
   "metadata": {},
   "outputs": [],
   "source": [
    "import pyautogui\n",
    "import time\n",
    "\n",
    "\n",
    "#main\n",
    "pyautogui.alert(\"Protocolo iniciado\")\n",
    "pyautogui.PAUSE =1\n",
    "for i in range(1):\n",
    "    pyautogui.alert(\"Copie o Link do zabbix para Continuar e ponha na aba.\")\n",
    "    pyautogui.press('pagedown')\n",
    "    locate = pyautogui.locateOnScreen(\"comentar.png\", grayscale='true')\n",
    "    pyautogui.click(locate)\n",
    "    pyautogui.press('end')\n",
    "    locate = pyautogui.locateOnScreen(\"escreva.png\", grayscale='true')\n",
    "    pyautogui.press('end')\n",
    "    pyautogui.click(locate)\n",
    "    pyautogui.press(\"2\")\n",
    "    pyautogui.hotkey(\"ctrl\",\"a\")\n",
    "    pyautogui.alert(\"Se texto selecionado, continuar.\")\n",
    "    locate = pyautogui.locateOnScreen(\"link.png\", grayscale='true')\n",
    "    pyautogui.click(locate)\n",
    "    pyautogui.hotkey(\"ctrl\",\"v\")\n",
    "    opcao = pyautogui.confirm(\"Link do zabbix ON?\", buttons=['OK', 'Cancel'])\n",
    "    pyautogui.press(\"enter\")     \n",
    "    locate = pyautogui.locateOnScreen(\"adicionar.PNG\", grayscale='true')\n",
    "    pyautogui.click(locate)\n",
    "    if opcao == \"ok\" :\n",
    "        pyautogui.alert(\"Abra o Link\")\n",
    "    else :\n",
    "        pyautogui.hotkey('ctrl','w')\n",
    "        pyautogui.alert(\"Aba fechada. Proxima\")\n",
    "pyautogui.alert(\"Protocolo Finalizado\")\n",
    "    \n",
    "    \n",
    "    \n",
    "    \n"
   ]
  },
  {
   "cell_type": "markdown",
   "id": "6959e443",
   "metadata": {},
   "source": [
    "# NOC - Finalizando\n",
    "#### Testes de Pyautogui e localização de pixel."
   ]
  },
  {
   "cell_type": "code",
   "execution_count": null,
   "id": "4c476193",
   "metadata": {},
   "outputs": [],
   "source": [
    "pyautogui.alert(\"Protocolo iniciado\")\n",
    "colocarBase()\n",
    "#anexaImagem()\n",
    "finalizaProtocolo()\n",
    "pyautogui.alert(\"Protocolo finalizado\")"
   ]
  },
  {
   "cell_type": "markdown",
   "id": "93ca41e7",
   "metadata": {},
   "source": [
    "# TESTES\n",
    "\n",
    "### Testes de Pyautogui e localização de pixel."
   ]
  },
  {
   "cell_type": "code",
   "execution_count": null,
   "id": "cb62d308",
   "metadata": {},
   "outputs": [],
   "source": [
    "anexaImagem()"
   ]
  },
  {
   "cell_type": "code",
   "execution_count": null,
   "id": "29f3f49b",
   "metadata": {},
   "outputs": [],
   "source": [
    "#print (pyautogui.position())\n",
    "pyautogui.moveTo(x=860, y=1053)"
   ]
  },
  {
   "cell_type": "code",
   "execution_count": null,
   "id": "76e92881",
   "metadata": {
    "scrolled": false
   },
   "outputs": [],
   "source": [
    "for i in range (5): \n",
    "    time.sleep(4)\n",
    "    print (pyautogui.position())"
   ]
  },
  {
   "cell_type": "code",
   "execution_count": null,
   "id": "5bfac744",
   "metadata": {},
   "outputs": [],
   "source": [
    "import pyautogui\n",
    "import time\n",
    "\n",
    "pyautogui.alert(\"teste inicio\")\n",
    "pyautogui.PAUSE = 0.5\n",
    "teste = pyautogui.locateOnScreen(\"teste.png\", grayscale='true')\n",
    "\n",
    "if teste != None:\n",
    "    print (type(teste))\n",
    "    print (teste)\n",
    "else:\n",
    "    print('Nada encontrtado.')\n",
    "pyautogui.moveTo(teste)\n",
    "pyautogui.alert(\"teste fim\")"
   ]
  }
 ],
 "metadata": {
  "kernelspec": {
   "display_name": "Python 3 (ipykernel)",
   "language": "python",
   "name": "python3"
  },
  "language_info": {
   "codemirror_mode": {
    "name": "ipython",
    "version": 3
   },
   "file_extension": ".py",
   "mimetype": "text/x-python",
   "name": "python",
   "nbconvert_exporter": "python",
   "pygments_lexer": "ipython3",
   "version": "3.9.12"
  }
 },
 "nbformat": 4,
 "nbformat_minor": 5
}
