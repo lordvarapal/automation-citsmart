{
 "cells": [
  {
   "cell_type": "markdown",
   "id": "5ab8384b",
   "metadata": {},
   "source": [
    "# Automacao para abrir chamados de reset de senhas NOC/ Central IT\n",
    "\n",
    "### Esta automação tem por objetivo acelerar o processo de reset de senha dos alunos da SME. Ele utiliza o Clavier+ com a função de \"5\" equivalendo ao texto de Abertura de protocolo."
   ]
  },
  {
   "cell_type": "code",
   "execution_count": 1,
   "id": "af76aa79",
   "metadata": {},
   "outputs": [],
   "source": [
    "#Importando Pandas\n",
    "import pandas as pd\n",
    "\n",
    "#Leio as informações da tabela\n",
    "tabela = pd.read_excel(\"lista-reset-senha.xlsx\", usecols=[0,1,2,3,4])\n",
    "total = len(tabela.index)\n",
    "for i in range (total):\n",
    "    linha = tabela.iloc[i]\n",
    "    #print (linha[1])\n"
   ]
  },
  {
   "cell_type": "code",
   "execution_count": 2,
   "id": "56e83860",
   "metadata": {},
   "outputs": [
    {
     "name": "stderr",
     "output_type": "stream",
     "text": [
      "[WDM] - Downloading: 19.2kB [00:00, 19.6MB/s]                                                                          \n"
     ]
    }
   ],
   "source": [
    "#Abertura do browser\n",
    "from selenium import webdriver\n",
    "from webdriver_manager.firefox import GeckoDriverManager\n",
    "from selenium.webdriver.firefox.service import Service\n",
    "from selenium.webdriver.common.by import By\n",
    "import time\n",
    "\n",
    "s = Service(GeckoDriverManager().install())"
   ]
  },
  {
   "cell_type": "code",
   "execution_count": 3,
   "id": "4646be0f",
   "metadata": {},
   "outputs": [],
   "source": [
    "def logandoCitsmart():\n",
    "    navegador.find_element(By.XPATH,'//span[text()=\"educacao.intranet\"]').click() #abrindo opcoes\n",
    "    navegador.find_element(By.XPATH,'/html/body/div[3]/div[1]/div/div/form/div[2]/div/div/div/div/ul/li[1]/a/span').click() #selecionando \n",
    "    navegador.find_element(By.XPATH,'//*[@id=\"user_login\"]').send_keys('thiago.lima') #login\n",
    "    navegador.find_element(By.XPATH,'//*[@id=\"senha\"]').send_keys('Mud@r123') #senha\n",
    "    navegador.find_element(By.XPATH,'//*[@id=\"btnEntrar\"]').click() #logar"
   ]
  },
  {
   "cell_type": "code",
   "execution_count": 4,
   "id": "26de8708",
   "metadata": {},
   "outputs": [],
   "source": [
    "def acessandoSistema():\n",
    "    navegador.find_element(By.XPATH,'/html/body/div[3]/div/header/div/div/div[1]/div[3]/a/i').click()#abrindo opcoes\n",
    "    navegador.find_element(By.XPATH,'/html/body/div[3]/div/header/div/div/div[1]/div[3]/div/div/div[2]/div/ul/li[1]/a/span').click()#abrindo fila de atendimento"
   ]
  },
  {
   "cell_type": "code",
   "execution_count": 5,
   "id": "8385eba2",
   "metadata": {},
   "outputs": [],
   "source": [
    "def novoCadastro():\n",
    "    navegador.find_element(By.XPATH,'/html/body/div[3]/div/div[2]/div/div[1]/div/form/div/div[3]/div[2]/button').click()#abrindo opcoes\n",
    "    navegador.find_element(By.XPATH,'/html/body/div[3]/div/div[2]/div/div[1]/div/form/div/div[3]/div[1]/div[2]/button').click()#abrindo novo"
   ]
  },
  {
   "cell_type": "code",
   "execution_count": null,
   "id": "5ff82fda",
   "metadata": {},
   "outputs": [],
   "source": [
    "def ajustandoLayout():\n",
    "    navegador.find_element(By.XPATH,'/html/body/div[3]/div/div[2]/div/div[1]/div/form/div/div[3]/div[2]/button').click() #abrindo opções\n",
    "    navegador.find_element(By.XPATH,'/html/body/div[3]/div/div[2]/div/div[1]/div/form/div/div[3]/div[2]/button').click() #selecionando 1/2\n",
    "    "
   ]
  },
  {
   "cell_type": "code",
   "execution_count": 6,
   "id": "be8ebf8a",
   "metadata": {},
   "outputs": [],
   "source": [
    "#main\n",
    "navegador = webdriver.Firefox(service = s)\n",
    "navegador.get('https://suporte.sme.prefeitura.sp.gov.br/citsmart/pages/smartDecisions/smartDecisions.load#/acesso-rapido')\n",
    "navegador.implicitly_wait(10)\n",
    "time.sleep(3)\n",
    "logandoCitsmart()\n",
    "acessandoSistema()\n",
    "#abre os tickets\n",
    "navegador.find_element(By.XPATH,'/html/body/div[3]/div/div[2]/div[1]/div/div/div[2]/div/div[2]/div/div[2]/div/div[2]/adf-widget-content/div/ul/li[1]/a').click()\n",
    "novoCadastro()"
   ]
  }
 ],
 "metadata": {
  "kernelspec": {
   "display_name": "Python 3 (ipykernel)",
   "language": "python",
   "name": "python3"
  },
  "language_info": {
   "codemirror_mode": {
    "name": "ipython",
    "version": 3
   },
   "file_extension": ".py",
   "mimetype": "text/x-python",
   "name": "python",
   "nbconvert_exporter": "python",
   "pygments_lexer": "ipython3",
   "version": "3.9.12"
  }
 },
 "nbformat": 4,
 "nbformat_minor": 5
}
